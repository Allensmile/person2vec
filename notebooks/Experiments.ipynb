{
 "cells": [
  {
   "cell_type": "code",
   "execution_count": 1,
   "metadata": {},
   "outputs": [
    {
     "name": "stderr",
     "output_type": "stream",
     "text": [
      "Using TensorFlow backend.\n"
     ]
    }
   ],
   "source": [
    "import keras"
   ]
  },
  {
   "cell_type": "code",
   "execution_count": 2,
   "metadata": {
    "collapsed": true
   },
   "outputs": [],
   "source": [
    "import pandas\n",
    "from sklearn.utils import shuffle\n",
    "import gensim\n",
    "import numpy as np"
   ]
  },
  {
   "cell_type": "code",
   "execution_count": 3,
   "metadata": {},
   "outputs": [
    {
     "data": {
      "text/html": [
       "<div>\n",
       "<style>\n",
       "    .dataframe thead tr:only-child th {\n",
       "        text-align: right;\n",
       "    }\n",
       "\n",
       "    .dataframe thead th {\n",
       "        text-align: left;\n",
       "    }\n",
       "\n",
       "    .dataframe tbody tr th {\n",
       "        vertical-align: top;\n",
       "    }\n",
       "</style>\n",
       "<table border=\"1\" class=\"dataframe\">\n",
       "  <thead>\n",
       "    <tr style=\"text-align: right;\">\n",
       "      <th></th>\n",
       "      <th>name</th>\n",
       "      <th>occupation</th>\n",
       "      <th>description</th>\n",
       "      <th>gender</th>\n",
       "    </tr>\n",
       "    <tr>\n",
       "      <th>name</th>\n",
       "      <th></th>\n",
       "      <th></th>\n",
       "      <th></th>\n",
       "      <th></th>\n",
       "    </tr>\n",
       "  </thead>\n",
       "  <tbody>\n",
       "    <tr>\n",
       "      <th>Barack Obama</th>\n",
       "      <td>Barack Obama</td>\n",
       "      <td>Politician</td>\n",
       "      <td>44th President of the United States of America</td>\n",
       "      <td>male</td>\n",
       "    </tr>\n",
       "    <tr>\n",
       "      <th>Barbara Boxer</th>\n",
       "      <td>Barbara Boxer</td>\n",
       "      <td>Politician</td>\n",
       "      <td>American politician</td>\n",
       "      <td>female</td>\n",
       "    </tr>\n",
       "    <tr>\n",
       "      <th>Bill Clinton</th>\n",
       "      <td>Bill Clinton</td>\n",
       "      <td>Politician</td>\n",
       "      <td>42nd President of the United States</td>\n",
       "      <td>male</td>\n",
       "    </tr>\n",
       "    <tr>\n",
       "      <th>Carly Fiorina</th>\n",
       "      <td>Carly Fiorina</td>\n",
       "      <td>Politician</td>\n",
       "      <td>American corporate executive and politician</td>\n",
       "      <td>female</td>\n",
       "    </tr>\n",
       "    <tr>\n",
       "      <th>Clint Eastwood</th>\n",
       "      <td>Clint Eastwood</td>\n",
       "      <td>Actor</td>\n",
       "      <td>actor and director from the United States</td>\n",
       "      <td>male</td>\n",
       "    </tr>\n",
       "  </tbody>\n",
       "</table>\n",
       "</div>"
      ],
      "text/plain": [
       "                          name  occupation  \\\n",
       "name                                         \n",
       "Barack Obama      Barack Obama  Politician   \n",
       "Barbara Boxer    Barbara Boxer  Politician   \n",
       "Bill Clinton      Bill Clinton  Politician   \n",
       "Carly Fiorina    Carly Fiorina  Politician   \n",
       "Clint Eastwood  Clint Eastwood       Actor   \n",
       "\n",
       "                                                   description  gender  \n",
       "name                                                                    \n",
       "Barack Obama    44th President of the United States of America    male  \n",
       "Barbara Boxer                              American politician  female  \n",
       "Bill Clinton               42nd President of the United States    male  \n",
       "Carly Fiorina      American corporate executive and politician  female  \n",
       "Clint Eastwood       actor and director from the United States    male  "
      ]
     },
     "execution_count": 3,
     "metadata": {},
     "output_type": "execute_result"
    }
   ],
   "source": [
    "raw_data = pandas.DataFrame.from_csv(path='../data/people_attributes.csv', index_col=None)\n",
    "raw_data = raw_data.set_index('name', drop=False)\n",
    "raw_data.head()"
   ]
  },
  {
   "cell_type": "code",
   "execution_count": 4,
   "metadata": {},
   "outputs": [
    {
     "data": {
      "text/html": [
       "<div>\n",
       "<style>\n",
       "    .dataframe thead tr:only-child th {\n",
       "        text-align: right;\n",
       "    }\n",
       "\n",
       "    .dataframe thead th {\n",
       "        text-align: left;\n",
       "    }\n",
       "\n",
       "    .dataframe tbody tr th {\n",
       "        vertical-align: top;\n",
       "    }\n",
       "</style>\n",
       "<table border=\"1\" class=\"dataframe\">\n",
       "  <thead>\n",
       "    <tr style=\"text-align: right;\">\n",
       "      <th></th>\n",
       "      <th>name</th>\n",
       "      <th>occupation</th>\n",
       "      <th>description</th>\n",
       "      <th>gender</th>\n",
       "    </tr>\n",
       "    <tr>\n",
       "      <th>name</th>\n",
       "      <th></th>\n",
       "      <th></th>\n",
       "      <th></th>\n",
       "      <th></th>\n",
       "    </tr>\n",
       "  </thead>\n",
       "  <tbody>\n",
       "    <tr>\n",
       "      <th>Barack Obama</th>\n",
       "      <td>Barack Obama</td>\n",
       "      <td>Politician</td>\n",
       "      <td>44th President of the United States of America</td>\n",
       "      <td>1</td>\n",
       "    </tr>\n",
       "    <tr>\n",
       "      <th>Barbara Boxer</th>\n",
       "      <td>Barbara Boxer</td>\n",
       "      <td>Politician</td>\n",
       "      <td>American politician</td>\n",
       "      <td>0</td>\n",
       "    </tr>\n",
       "    <tr>\n",
       "      <th>Bill Clinton</th>\n",
       "      <td>Bill Clinton</td>\n",
       "      <td>Politician</td>\n",
       "      <td>42nd President of the United States</td>\n",
       "      <td>1</td>\n",
       "    </tr>\n",
       "    <tr>\n",
       "      <th>Carly Fiorina</th>\n",
       "      <td>Carly Fiorina</td>\n",
       "      <td>Politician</td>\n",
       "      <td>American corporate executive and politician</td>\n",
       "      <td>0</td>\n",
       "    </tr>\n",
       "    <tr>\n",
       "      <th>Clint Eastwood</th>\n",
       "      <td>Clint Eastwood</td>\n",
       "      <td>Actor</td>\n",
       "      <td>actor and director from the United States</td>\n",
       "      <td>1</td>\n",
       "    </tr>\n",
       "  </tbody>\n",
       "</table>\n",
       "</div>"
      ],
      "text/plain": [
       "                          name  occupation  \\\n",
       "name                                         \n",
       "Barack Obama      Barack Obama  Politician   \n",
       "Barbara Boxer    Barbara Boxer  Politician   \n",
       "Bill Clinton      Bill Clinton  Politician   \n",
       "Carly Fiorina    Carly Fiorina  Politician   \n",
       "Clint Eastwood  Clint Eastwood       Actor   \n",
       "\n",
       "                                                   description  gender  \n",
       "name                                                                    \n",
       "Barack Obama    44th President of the United States of America       1  \n",
       "Barbara Boxer                              American politician       0  \n",
       "Bill Clinton               42nd President of the United States       1  \n",
       "Carly Fiorina      American corporate executive and politician       0  \n",
       "Clint Eastwood       actor and director from the United States       1  "
      ]
     },
     "execution_count": 4,
     "metadata": {},
     "output_type": "execute_result"
    }
   ],
   "source": [
    "raw_data['gender'].replace('female', 0, inplace=True)\n",
    "raw_data['gender'].replace('male', 1, inplace=True)\n",
    "raw_data.head()"
   ]
  },
  {
   "cell_type": "code",
   "execution_count": 5,
   "metadata": {},
   "outputs": [
    {
     "data": {
      "text/plain": [
       "name\n",
       "Maria Cantwell      0\n",
       "Kevin Johnson       1\n",
       "Marissa Mayer       0\n",
       "Kelly Ayotte        0\n",
       "Kushal Pal Singh    1\n",
       "Name: gender, dtype: int64"
      ]
     },
     "execution_count": 5,
     "metadata": {},
     "output_type": "execute_result"
    }
   ],
   "source": [
    "name_and_gender = raw_data['gender']\n",
    "name_and_gender = shuffle(name_and_gender)\n",
    "name_and_gender.head()"
   ]
  },
  {
   "cell_type": "code",
   "execution_count": 6,
   "metadata": {},
   "outputs": [
    {
     "data": {
      "text/plain": [
       "name\n",
       "Maria Cantwell      0\n",
       "Kevin Johnson       1\n",
       "Marissa Mayer       0\n",
       "Kelly Ayotte        0\n",
       "Kushal Pal Singh    1\n",
       "Name: gender, dtype: int64"
      ]
     },
     "execution_count": 6,
     "metadata": {},
     "output_type": "execute_result"
    }
   ],
   "source": [
    "name_and_gender.head()"
   ]
  },
  {
   "cell_type": "code",
   "execution_count": 7,
   "metadata": {
    "collapsed": true
   },
   "outputs": [],
   "source": [
    "word2vec = gensim.models.KeyedVectors.load_word2vec_format('../data/GoogleNews-vectors-negative300.bin', binary=True) "
   ]
  },
  {
   "cell_type": "code",
   "execution_count": 9,
   "metadata": {},
   "outputs": [
    {
     "data": {
      "text/plain": [
       "1"
      ]
     },
     "execution_count": 9,
     "metadata": {},
     "output_type": "execute_result"
    }
   ],
   "source": [
    "name_and_gender['Barack Obama']"
   ]
  },
  {
   "cell_type": "code",
   "execution_count": 10,
   "metadata": {
    "collapsed": true
   },
   "outputs": [],
   "source": [
    "def _name_not_has_vec(name):\n",
    "    try:\n",
    "        word2vec.word_vec(name.replace(' ','_'))\n",
    "        return False\n",
    "    except:\n",
    "        return True"
   ]
  },
  {
   "cell_type": "code",
   "execution_count": 11,
   "metadata": {
    "collapsed": true
   },
   "outputs": [],
   "source": [
    "truncated_name_and_gender = name_and_gender.drop([name for name in name_and_gender.keys() if _name_not_has_vec(name)])"
   ]
  },
  {
   "cell_type": "code",
   "execution_count": 12,
   "metadata": {},
   "outputs": [
    {
     "data": {
      "text/plain": [
       "count    241.000000\n",
       "mean       0.804979\n",
       "std        0.397041\n",
       "min        0.000000\n",
       "25%        1.000000\n",
       "50%        1.000000\n",
       "75%        1.000000\n",
       "max        1.000000\n",
       "Name: gender, dtype: float64"
      ]
     },
     "execution_count": 12,
     "metadata": {},
     "output_type": "execute_result"
    }
   ],
   "source": [
    "truncated_name_and_gender.describe()"
   ]
  },
  {
   "cell_type": "code",
   "execution_count": 13,
   "metadata": {},
   "outputs": [
    {
     "data": {
      "text/plain": [
       "name\n",
       "Maria Cantwell      0\n",
       "Marissa Mayer       0\n",
       "Kelly Ayotte        0\n",
       "Kushal Pal Singh    1\n",
       "Satya Prabhakar     1\n",
       "Name: gender, dtype: int64"
      ]
     },
     "execution_count": 13,
     "metadata": {},
     "output_type": "execute_result"
    }
   ],
   "source": [
    "truncated_name_and_gender.head()"
   ]
  },
  {
   "cell_type": "code",
   "execution_count": 14,
   "metadata": {},
   "outputs": [
    {
     "data": {
      "text/html": [
       "<div>\n",
       "<style>\n",
       "    .dataframe thead tr:only-child th {\n",
       "        text-align: right;\n",
       "    }\n",
       "\n",
       "    .dataframe thead th {\n",
       "        text-align: left;\n",
       "    }\n",
       "\n",
       "    .dataframe tbody tr th {\n",
       "        vertical-align: top;\n",
       "    }\n",
       "</style>\n",
       "<table border=\"1\" class=\"dataframe\">\n",
       "  <thead>\n",
       "    <tr style=\"text-align: right;\">\n",
       "      <th></th>\n",
       "      <th>name</th>\n",
       "    </tr>\n",
       "  </thead>\n",
       "  <tbody>\n",
       "    <tr>\n",
       "      <th>0</th>\n",
       "      <td>Maria Cantwell</td>\n",
       "    </tr>\n",
       "    <tr>\n",
       "      <th>1</th>\n",
       "      <td>Marissa Mayer</td>\n",
       "    </tr>\n",
       "    <tr>\n",
       "      <th>2</th>\n",
       "      <td>Kelly Ayotte</td>\n",
       "    </tr>\n",
       "    <tr>\n",
       "      <th>3</th>\n",
       "      <td>Kushal Pal Singh</td>\n",
       "    </tr>\n",
       "    <tr>\n",
       "      <th>4</th>\n",
       "      <td>Satya Prabhakar</td>\n",
       "    </tr>\n",
       "  </tbody>\n",
       "</table>\n",
       "</div>"
      ],
      "text/plain": [
       "               name\n",
       "0    Maria Cantwell\n",
       "1     Marissa Mayer\n",
       "2      Kelly Ayotte\n",
       "3  Kushal Pal Singh\n",
       "4   Satya Prabhakar"
      ]
     },
     "execution_count": 14,
     "metadata": {},
     "output_type": "execute_result"
    }
   ],
   "source": [
    "name_and_vector = pandas.DataFrame(truncated_name_and_gender.keys(), columns=['name'])\n",
    "name_and_vector.head()"
   ]
  },
  {
   "cell_type": "code",
   "execution_count": 84,
   "metadata": {
    "collapsed": true
   },
   "outputs": [],
   "source": [
    "def _get_vector(row):\n",
    "    return word2vec.word_vec(row.replace(' ','_')).flatten()"
   ]
  },
  {
   "cell_type": "code",
   "execution_count": 85,
   "metadata": {
    "scrolled": true
   },
   "outputs": [],
   "source": [
    "vectors = name_and_vector.name.map(_get_vector)\n",
    "vectors = vectors.apply(pandas.Series)"
   ]
  },
  {
   "cell_type": "code",
   "execution_count": 86,
   "metadata": {
    "scrolled": true
   },
   "outputs": [
    {
     "data": {
      "text/plain": [
       "array([[ 0.00939941, -0.1484375 , -0.20117188, ..., -0.21484375,\n",
       "         0.15234375,  0.25585938],\n",
       "       [-0.01257324,  0.24902344, -0.34570312, ..., -0.42382812,\n",
       "         0.37890625, -0.00549316],\n",
       "       [ 0.14648438,  0.02954102, -0.13769531, ...,  0.08056641,\n",
       "        -0.18359375,  0.00263977],\n",
       "       ..., \n",
       "       [ 0.21582031,  0.32226562, -0.09863281, ..., -0.01831055,\n",
       "        -0.54296875, -0.22363281],\n",
       "       [-0.13867188, -0.23046875, -0.07519531, ...,  0.20507812,\n",
       "        -0.19238281,  0.08105469],\n",
       "       [-0.13964844,  0.07128906, -0.38476562, ..., -0.15429688,\n",
       "        -0.01049805, -0.37304688]], dtype=float32)"
      ]
     },
     "execution_count": 86,
     "metadata": {},
     "output_type": "execute_result"
    }
   ],
   "source": [
    "vectors.values"
   ]
  },
  {
   "cell_type": "code",
   "execution_count": 35,
   "metadata": {},
   "outputs": [
    {
     "data": {
      "text/plain": [
       "array([0, 0, 0, 1, 1, 1, 1, 1, 1, 1, 1, 1, 1, 1, 1, 0, 1, 0, 0, 1, 0, 1, 1,\n",
       "       1, 1, 1, 1, 0, 1, 1, 1, 1, 1, 1, 1, 1, 1, 1, 1, 1, 1, 1, 1, 0, 1, 1,\n",
       "       1, 1, 0, 1, 1, 1, 0, 1, 1, 1, 1, 1, 1, 1, 1, 1, 1, 1, 1, 1, 1, 1, 1,\n",
       "       1, 1, 1, 1, 0, 1, 1, 1, 1, 1, 1, 1, 0, 0, 1, 1, 0, 1, 1, 1, 1, 1, 1,\n",
       "       1, 1, 1, 1, 1, 1, 1, 0, 1, 1, 1, 1, 1, 1, 1, 1, 0, 1, 1, 0, 0, 1, 1,\n",
       "       0, 0, 1, 1, 0, 1, 0, 0, 1, 1, 1, 0, 1, 1, 0, 1, 1, 1, 1, 0, 1, 1, 1,\n",
       "       1, 1, 1, 1, 1, 0, 1, 1, 1, 0, 1, 1, 1, 1, 1, 1, 1, 0, 1, 1, 1, 1, 0,\n",
       "       0, 1, 0, 1, 0, 0, 1, 1, 1, 1, 1, 0, 1, 0, 1, 1, 1, 1, 1, 1, 1, 0, 1,\n",
       "       1, 1, 1, 0, 1, 0, 1, 1, 1, 0, 1, 1, 1, 1, 1, 1, 1, 1, 1, 1, 1, 1, 1,\n",
       "       1, 1, 0, 1, 1, 0, 1, 1, 1, 1, 1, 0, 1, 1, 1, 0, 1, 1, 1, 1, 1, 1, 1,\n",
       "       1, 0, 1, 1, 1, 1, 0, 1, 1, 1, 1])"
      ]
     },
     "execution_count": 35,
     "metadata": {},
     "output_type": "execute_result"
    }
   ],
   "source": [
    "just_binary_genders = np.array(truncated_name_and_gender)\n",
    "just_binary_genders"
   ]
  },
  {
   "cell_type": "code",
   "execution_count": 92,
   "metadata": {},
   "outputs": [
    {
     "data": {
      "text/plain": [
       "(200, 300)"
      ]
     },
     "execution_count": 92,
     "metadata": {},
     "output_type": "execute_result"
    }
   ],
   "source": [
    "train_data = vectors[:200].values\n",
    "train_labels = just_binary_genders[:200]\n",
    "test_data = vectors[200:].values\n",
    "test_labels = just_binary_genders[200:]\n",
    "train_data.shape"
   ]
  },
  {
   "cell_type": "code",
   "execution_count": 108,
   "metadata": {},
   "outputs": [
    {
     "name": "stdout",
     "output_type": "stream",
     "text": [
      "_________________________________________________________________\n",
      "Layer (type)                 Output Shape              Param #   \n",
      "=================================================================\n",
      "dense_11 (Dense)             (None, 1)                 301       \n",
      "=================================================================\n",
      "Total params: 301\n",
      "Trainable params: 301\n",
      "Non-trainable params: 0\n",
      "_________________________________________________________________\n"
     ]
    }
   ],
   "source": [
    "model = keras.models.Sequential([\n",
    "    keras.layers.Dense(1, input_shape=(300,), activation='sigmoid'),\n",
    "    ])\n",
    "model.summary()"
   ]
  },
  {
   "cell_type": "code",
   "execution_count": 109,
   "metadata": {
    "collapsed": true
   },
   "outputs": [],
   "source": [
    "model.compile(optimizer='adam',\n",
    "              loss='mean_squared_error',\n",
    "              metrics=['accuracy'])"
   ]
  },
  {
   "cell_type": "code",
   "execution_count": 110,
   "metadata": {},
   "outputs": [
    {
     "name": "stdout",
     "output_type": "stream",
     "text": [
      "Train on 200 samples, validate on 41 samples\n",
      "Epoch 1/100\n",
      "0s - loss: 0.2577 - acc: 0.4650 - val_loss: 0.2279 - val_acc: 0.6098\n",
      "Epoch 2/100\n",
      "0s - loss: 0.2332 - acc: 0.6700 - val_loss: 0.2058 - val_acc: 0.8293\n",
      "Epoch 3/100\n",
      "0s - loss: 0.2134 - acc: 0.7450 - val_loss: 0.1874 - val_acc: 0.7805\n",
      "Epoch 4/100\n",
      "0s - loss: 0.1961 - acc: 0.7750 - val_loss: 0.1746 - val_acc: 0.8293\n",
      "Epoch 5/100\n",
      "0s - loss: 0.1845 - acc: 0.7850 - val_loss: 0.1636 - val_acc: 0.8293\n",
      "Epoch 6/100\n",
      "0s - loss: 0.1736 - acc: 0.7950 - val_loss: 0.1551 - val_acc: 0.8537\n",
      "Epoch 7/100\n",
      "0s - loss: 0.1655 - acc: 0.7950 - val_loss: 0.1479 - val_acc: 0.8537\n",
      "Epoch 8/100\n",
      "0s - loss: 0.1585 - acc: 0.7950 - val_loss: 0.1419 - val_acc: 0.8537\n",
      "Epoch 9/100\n",
      "0s - loss: 0.1528 - acc: 0.7950 - val_loss: 0.1371 - val_acc: 0.8537\n",
      "Epoch 10/100\n",
      "0s - loss: 0.1481 - acc: 0.7950 - val_loss: 0.1330 - val_acc: 0.8537\n",
      "Epoch 11/100\n",
      "0s - loss: 0.1441 - acc: 0.7950 - val_loss: 0.1298 - val_acc: 0.8537\n",
      "Epoch 12/100\n",
      "0s - loss: 0.1406 - acc: 0.7950 - val_loss: 0.1274 - val_acc: 0.8537\n",
      "Epoch 13/100\n",
      "0s - loss: 0.1375 - acc: 0.7950 - val_loss: 0.1252 - val_acc: 0.8537\n",
      "Epoch 14/100\n",
      "0s - loss: 0.1346 - acc: 0.8000 - val_loss: 0.1232 - val_acc: 0.8537\n",
      "Epoch 15/100\n",
      "0s - loss: 0.1320 - acc: 0.8000 - val_loss: 0.1218 - val_acc: 0.8537\n",
      "Epoch 16/100\n",
      "0s - loss: 0.1293 - acc: 0.8050 - val_loss: 0.1203 - val_acc: 0.8537\n",
      "Epoch 17/100\n",
      "0s - loss: 0.1268 - acc: 0.8050 - val_loss: 0.1189 - val_acc: 0.8537\n",
      "Epoch 18/100\n",
      "0s - loss: 0.1245 - acc: 0.8050 - val_loss: 0.1176 - val_acc: 0.8537\n",
      "Epoch 19/100\n",
      "0s - loss: 0.1220 - acc: 0.8100 - val_loss: 0.1161 - val_acc: 0.8780\n",
      "Epoch 20/100\n",
      "0s - loss: 0.1199 - acc: 0.8150 - val_loss: 0.1149 - val_acc: 0.8780\n",
      "Epoch 21/100\n",
      "0s - loss: 0.1177 - acc: 0.8200 - val_loss: 0.1138 - val_acc: 0.8780\n",
      "Epoch 22/100\n",
      "0s - loss: 0.1156 - acc: 0.8300 - val_loss: 0.1128 - val_acc: 0.8780\n",
      "Epoch 23/100\n",
      "0s - loss: 0.1135 - acc: 0.8400 - val_loss: 0.1115 - val_acc: 0.8780\n",
      "Epoch 24/100\n",
      "0s - loss: 0.1114 - acc: 0.8450 - val_loss: 0.1103 - val_acc: 0.9024\n",
      "Epoch 25/100\n",
      "0s - loss: 0.1095 - acc: 0.8500 - val_loss: 0.1091 - val_acc: 0.9024\n",
      "Epoch 26/100\n",
      "0s - loss: 0.1077 - acc: 0.8500 - val_loss: 0.1078 - val_acc: 0.9024\n",
      "Epoch 27/100\n",
      "0s - loss: 0.1059 - acc: 0.8500 - val_loss: 0.1068 - val_acc: 0.9024\n",
      "Epoch 28/100\n",
      "0s - loss: 0.1039 - acc: 0.8600 - val_loss: 0.1061 - val_acc: 0.9024\n",
      "Epoch 29/100\n",
      "0s - loss: 0.1022 - acc: 0.8600 - val_loss: 0.1053 - val_acc: 0.9024\n",
      "Epoch 30/100\n",
      "0s - loss: 0.1002 - acc: 0.8650 - val_loss: 0.1046 - val_acc: 0.9024\n",
      "Epoch 31/100\n",
      "0s - loss: 0.0986 - acc: 0.8850 - val_loss: 0.1039 - val_acc: 0.9024\n",
      "Epoch 32/100\n",
      "0s - loss: 0.0969 - acc: 0.8900 - val_loss: 0.1030 - val_acc: 0.9024\n",
      "Epoch 33/100\n",
      "0s - loss: 0.0951 - acc: 0.8950 - val_loss: 0.1021 - val_acc: 0.9024\n",
      "Epoch 34/100\n",
      "0s - loss: 0.0936 - acc: 0.8950 - val_loss: 0.1014 - val_acc: 0.9024\n",
      "Epoch 35/100\n",
      "0s - loss: 0.0921 - acc: 0.8950 - val_loss: 0.1006 - val_acc: 0.9024\n",
      "Epoch 36/100\n",
      "0s - loss: 0.0906 - acc: 0.9000 - val_loss: 0.0998 - val_acc: 0.9024\n",
      "Epoch 37/100\n",
      "0s - loss: 0.0892 - acc: 0.9000 - val_loss: 0.0988 - val_acc: 0.9024\n",
      "Epoch 38/100\n",
      "0s - loss: 0.0877 - acc: 0.9100 - val_loss: 0.0980 - val_acc: 0.9024\n",
      "Epoch 39/100\n",
      "0s - loss: 0.0864 - acc: 0.9100 - val_loss: 0.0972 - val_acc: 0.9024\n",
      "Epoch 40/100\n",
      "0s - loss: 0.0850 - acc: 0.9150 - val_loss: 0.0965 - val_acc: 0.9024\n",
      "Epoch 41/100\n",
      "0s - loss: 0.0837 - acc: 0.9150 - val_loss: 0.0958 - val_acc: 0.9024\n",
      "Epoch 42/100\n",
      "0s - loss: 0.0825 - acc: 0.9200 - val_loss: 0.0951 - val_acc: 0.9024\n",
      "Epoch 43/100\n",
      "0s - loss: 0.0812 - acc: 0.9250 - val_loss: 0.0944 - val_acc: 0.9024\n",
      "Epoch 44/100\n",
      "0s - loss: 0.0800 - acc: 0.9300 - val_loss: 0.0937 - val_acc: 0.9024\n",
      "Epoch 45/100\n",
      "0s - loss: 0.0788 - acc: 0.9450 - val_loss: 0.0930 - val_acc: 0.9024\n",
      "Epoch 46/100\n",
      "0s - loss: 0.0776 - acc: 0.9450 - val_loss: 0.0925 - val_acc: 0.9024\n",
      "Epoch 47/100\n",
      "0s - loss: 0.0764 - acc: 0.9550 - val_loss: 0.0919 - val_acc: 0.9024\n",
      "Epoch 48/100\n",
      "0s - loss: 0.0753 - acc: 0.9550 - val_loss: 0.0914 - val_acc: 0.9024\n",
      "Epoch 49/100\n",
      "0s - loss: 0.0741 - acc: 0.9550 - val_loss: 0.0907 - val_acc: 0.9024\n",
      "Epoch 50/100\n",
      "0s - loss: 0.0730 - acc: 0.9550 - val_loss: 0.0901 - val_acc: 0.9024\n",
      "Epoch 51/100\n",
      "0s - loss: 0.0719 - acc: 0.9550 - val_loss: 0.0895 - val_acc: 0.9024\n",
      "Epoch 52/100\n",
      "0s - loss: 0.0709 - acc: 0.9550 - val_loss: 0.0889 - val_acc: 0.9024\n",
      "Epoch 53/100\n",
      "0s - loss: 0.0699 - acc: 0.9550 - val_loss: 0.0885 - val_acc: 0.8780\n",
      "Epoch 54/100\n",
      "0s - loss: 0.0690 - acc: 0.9550 - val_loss: 0.0879 - val_acc: 0.8780\n",
      "Epoch 55/100\n",
      "0s - loss: 0.0680 - acc: 0.9600 - val_loss: 0.0873 - val_acc: 0.8780\n",
      "Epoch 56/100\n",
      "0s - loss: 0.0670 - acc: 0.9600 - val_loss: 0.0867 - val_acc: 0.8780\n",
      "Epoch 57/100\n",
      "0s - loss: 0.0661 - acc: 0.9600 - val_loss: 0.0862 - val_acc: 0.8780\n",
      "Epoch 58/100\n",
      "0s - loss: 0.0653 - acc: 0.9600 - val_loss: 0.0858 - val_acc: 0.8780\n",
      "Epoch 59/100\n",
      "0s - loss: 0.0644 - acc: 0.9600 - val_loss: 0.0853 - val_acc: 0.8780\n",
      "Epoch 60/100\n",
      "0s - loss: 0.0636 - acc: 0.9600 - val_loss: 0.0847 - val_acc: 0.8780\n",
      "Epoch 61/100\n",
      "0s - loss: 0.0627 - acc: 0.9600 - val_loss: 0.0844 - val_acc: 0.8780\n",
      "Epoch 62/100\n",
      "0s - loss: 0.0619 - acc: 0.9600 - val_loss: 0.0839 - val_acc: 0.8780\n",
      "Epoch 63/100\n",
      "0s - loss: 0.0611 - acc: 0.9600 - val_loss: 0.0834 - val_acc: 0.8780\n",
      "Epoch 64/100\n",
      "0s - loss: 0.0603 - acc: 0.9600 - val_loss: 0.0828 - val_acc: 0.8780\n",
      "Epoch 65/100\n",
      "0s - loss: 0.0596 - acc: 0.9600 - val_loss: 0.0824 - val_acc: 0.8780\n",
      "Epoch 66/100\n",
      "0s - loss: 0.0588 - acc: 0.9600 - val_loss: 0.0819 - val_acc: 0.8780\n",
      "Epoch 67/100\n",
      "0s - loss: 0.0581 - acc: 0.9600 - val_loss: 0.0815 - val_acc: 0.9024\n",
      "Epoch 68/100\n",
      "0s - loss: 0.0574 - acc: 0.9600 - val_loss: 0.0810 - val_acc: 0.9024\n",
      "Epoch 69/100\n",
      "0s - loss: 0.0567 - acc: 0.9600 - val_loss: 0.0806 - val_acc: 0.9024\n",
      "Epoch 70/100\n",
      "0s - loss: 0.0560 - acc: 0.9600 - val_loss: 0.0802 - val_acc: 0.9024\n",
      "Epoch 71/100\n",
      "0s - loss: 0.0554 - acc: 0.9600 - val_loss: 0.0798 - val_acc: 0.9024\n",
      "Epoch 72/100\n",
      "0s - loss: 0.0547 - acc: 0.9600 - val_loss: 0.0793 - val_acc: 0.9024\n",
      "Epoch 73/100\n",
      "0s - loss: 0.0541 - acc: 0.9600 - val_loss: 0.0790 - val_acc: 0.9024\n",
      "Epoch 74/100\n",
      "0s - loss: 0.0535 - acc: 0.9600 - val_loss: 0.0786 - val_acc: 0.9024\n",
      "Epoch 75/100\n",
      "0s - loss: 0.0529 - acc: 0.9600 - val_loss: 0.0783 - val_acc: 0.9268\n",
      "Epoch 76/100\n",
      "0s - loss: 0.0523 - acc: 0.9600 - val_loss: 0.0779 - val_acc: 0.9268\n",
      "Epoch 77/100\n",
      "0s - loss: 0.0517 - acc: 0.9600 - val_loss: 0.0775 - val_acc: 0.9268\n",
      "Epoch 78/100\n",
      "0s - loss: 0.0511 - acc: 0.9600 - val_loss: 0.0772 - val_acc: 0.9268\n",
      "Epoch 79/100\n",
      "0s - loss: 0.0506 - acc: 0.9600 - val_loss: 0.0769 - val_acc: 0.9268\n",
      "Epoch 80/100\n",
      "0s - loss: 0.0500 - acc: 0.9600 - val_loss: 0.0766 - val_acc: 0.9268\n",
      "Epoch 81/100\n",
      "0s - loss: 0.0495 - acc: 0.9600 - val_loss: 0.0762 - val_acc: 0.9268\n",
      "Epoch 82/100\n",
      "0s - loss: 0.0489 - acc: 0.9600 - val_loss: 0.0760 - val_acc: 0.9268\n",
      "Epoch 83/100\n",
      "0s - loss: 0.0484 - acc: 0.9650 - val_loss: 0.0758 - val_acc: 0.9268\n",
      "Epoch 84/100\n",
      "0s - loss: 0.0479 - acc: 0.9650 - val_loss: 0.0757 - val_acc: 0.9268\n",
      "Epoch 85/100\n",
      "0s - loss: 0.0474 - acc: 0.9650 - val_loss: 0.0754 - val_acc: 0.9268\n",
      "Epoch 86/100\n",
      "0s - loss: 0.0469 - acc: 0.9650 - val_loss: 0.0750 - val_acc: 0.9268\n",
      "Epoch 87/100\n",
      "0s - loss: 0.0464 - acc: 0.9700 - val_loss: 0.0747 - val_acc: 0.9268\n",
      "Epoch 88/100\n",
      "0s - loss: 0.0459 - acc: 0.9700 - val_loss: 0.0744 - val_acc: 0.9268\n",
      "Epoch 89/100\n",
      "0s - loss: 0.0455 - acc: 0.9700 - val_loss: 0.0742 - val_acc: 0.9268\n",
      "Epoch 90/100\n",
      "0s - loss: 0.0450 - acc: 0.9700 - val_loss: 0.0741 - val_acc: 0.9268\n",
      "Epoch 91/100\n",
      "0s - loss: 0.0446 - acc: 0.9700 - val_loss: 0.0738 - val_acc: 0.9268\n",
      "Epoch 92/100\n",
      "0s - loss: 0.0441 - acc: 0.9700 - val_loss: 0.0734 - val_acc: 0.9268\n",
      "Epoch 93/100\n",
      "0s - loss: 0.0437 - acc: 0.9700 - val_loss: 0.0732 - val_acc: 0.9268\n",
      "Epoch 94/100\n",
      "0s - loss: 0.0433 - acc: 0.9700 - val_loss: 0.0730 - val_acc: 0.9268\n",
      "Epoch 95/100\n",
      "0s - loss: 0.0429 - acc: 0.9700 - val_loss: 0.0728 - val_acc: 0.9268\n",
      "Epoch 96/100\n",
      "0s - loss: 0.0424 - acc: 0.9700 - val_loss: 0.0726 - val_acc: 0.9268\n",
      "Epoch 97/100\n",
      "0s - loss: 0.0421 - acc: 0.9750 - val_loss: 0.0723 - val_acc: 0.9268\n",
      "Epoch 98/100\n",
      "0s - loss: 0.0417 - acc: 0.9750 - val_loss: 0.0720 - val_acc: 0.9268\n",
      "Epoch 99/100\n",
      "0s - loss: 0.0413 - acc: 0.9750 - val_loss: 0.0717 - val_acc: 0.9268\n",
      "Epoch 100/100\n",
      "0s - loss: 0.0410 - acc: 0.9750 - val_loss: 0.0715 - val_acc: 0.9268\n"
     ]
    },
    {
     "data": {
      "text/plain": [
       "<keras.callbacks.History at 0x7f256f115b00>"
      ]
     },
     "execution_count": 110,
     "metadata": {},
     "output_type": "execute_result"
    }
   ],
   "source": [
    "model.fit(train_data, train_labels, verbose=2, epochs=100, validation_data=(test_data, test_labels))"
   ]
  },
  {
   "cell_type": "code",
   "execution_count": 132,
   "metadata": {},
   "outputs": [
    {
     "data": {
      "text/plain": [
       "array([[ 0.82870197],\n",
       "       [ 0.77971435],\n",
       "       [ 0.87402689],\n",
       "       [ 0.97314125],\n",
       "       [ 0.74221998],\n",
       "       [ 0.80812418],\n",
       "       [ 0.8621847 ],\n",
       "       [ 0.9106319 ],\n",
       "       [ 0.64999831],\n",
       "       [ 0.44281057],\n",
       "       [ 0.87099701],\n",
       "       [ 0.88975173],\n",
       "       [ 0.85612589],\n",
       "       [ 0.97617835],\n",
       "       [ 0.96385831],\n",
       "       [ 0.78015208],\n",
       "       [ 0.91499949],\n",
       "       [ 0.97594589],\n",
       "       [ 0.24922973],\n",
       "       [ 0.81384611],\n",
       "       [ 0.91863841],\n",
       "       [ 0.66546541],\n",
       "       [ 0.35794035],\n",
       "       [ 0.72538179],\n",
       "       [ 0.71342397],\n",
       "       [ 0.91353798],\n",
       "       [ 0.4794949 ],\n",
       "       [ 0.81853193],\n",
       "       [ 0.7869367 ],\n",
       "       [ 0.92711145],\n",
       "       [ 0.94755   ],\n",
       "       [ 0.42940682],\n",
       "       [ 0.89408821],\n",
       "       [ 0.77572149],\n",
       "       [ 0.82696468],\n",
       "       [ 0.98620403],\n",
       "       [ 0.62208581],\n",
       "       [ 0.822106  ],\n",
       "       [ 0.98360461],\n",
       "       [ 0.94520593],\n",
       "       [ 0.94627374]], dtype=float32)"
      ]
     },
     "execution_count": 132,
     "metadata": {},
     "output_type": "execute_result"
    }
   ],
   "source": [
    "test_predict = model.predict(test_data)\n",
    "test_predict"
   ]
  },
  {
   "cell_type": "code",
   "execution_count": 113,
   "metadata": {},
   "outputs": [
    {
     "data": {
      "text/plain": [
       "array([1, 1, 1, 1, 1, 1, 1, 1, 1, 0, 1, 1, 0, 1, 1, 1, 1, 1, 0, 1, 1, 1, 0,\n",
       "       1, 1, 1, 1, 1, 1, 1, 1, 0, 1, 1, 1, 1, 0, 1, 1, 1, 1])"
      ]
     },
     "execution_count": 113,
     "metadata": {},
     "output_type": "execute_result"
    }
   ],
   "source": [
    "test_labels"
   ]
  },
  {
   "cell_type": "code",
   "execution_count": 114,
   "metadata": {},
   "outputs": [
    {
     "data": {
      "text/plain": [
       "name\n",
       "Bharat Desai          1\n",
       "Chris Coons           1\n",
       "Wilfred Kiboro        1\n",
       "John P. Surma         1\n",
       "Sheldon Whitehouse    1\n",
       "Tom Udall             1\n",
       "Harry Reid            1\n",
       "Jeb Bush              1\n",
       "David Vitter          1\n",
       "Susana Martinez       0\n",
       "Gregory Wasson        1\n",
       "Joe Manchin           1\n",
       "Carol Meyrowitz       0\n",
       "Anil Ambani           1\n",
       "Gregg Steinhafel      1\n",
       "Doug Ducey            1\n",
       "Richard Fairbank      1\n",
       "Jeff Bezos            1\n",
       "Anne Hathaway         0\n",
       "Rajeev Suri           1\n",
       "John Kasich           1\n",
       "Tatsumi Kimishima     1\n",
       "Margot Robbie         0\n",
       "Bill Clinton          1\n",
       "Cory Booker           1\n",
       "Jesse Eisenberg       1\n",
       "Ben Cardin            1\n",
       "Tom Cruise            1\n",
       "Martin O'Malley       1\n",
       "Robert Redford        1\n",
       "John Thain            1\n",
       "Meg Whitman           0\n",
       "Thom Tillis           1\n",
       "Butch Otter           1\n",
       "Sergio Ermotti        1\n",
       "Dieter Zetsche        1\n",
       "Debbie Stabenow       0\n",
       "Devin Wenig           1\n",
       "Elon Musk             1\n",
       "Bernie Sanders        1\n",
       "Bob Menendez          1\n",
       "Name: gender, dtype: int64"
      ]
     },
     "execution_count": 114,
     "metadata": {},
     "output_type": "execute_result"
    }
   ],
   "source": [
    "test_names = truncated_name_and_gender[200:]\n",
    "test_names"
   ]
  },
  {
   "cell_type": "code",
   "execution_count": 135,
   "metadata": {},
   "outputs": [
    {
     "data": {
      "text/plain": [
       "[0.82870197,\n",
       " 0.77971435,\n",
       " 0.87402689,\n",
       " 0.97314125,\n",
       " 0.74221998,\n",
       " 0.80812418,\n",
       " 0.8621847,\n",
       " 0.9106319,\n",
       " 0.64999831,\n",
       " 0.44281057,\n",
       " 0.87099701,\n",
       " 0.88975173,\n",
       " 0.85612589,\n",
       " 0.97617835,\n",
       " 0.96385831,\n",
       " 0.78015208,\n",
       " 0.91499949,\n",
       " 0.97594589,\n",
       " 0.24922973,\n",
       " 0.81384611,\n",
       " 0.91863841,\n",
       " 0.66546541,\n",
       " 0.35794035,\n",
       " 0.72538179,\n",
       " 0.71342397,\n",
       " 0.91353798,\n",
       " 0.4794949,\n",
       " 0.81853193,\n",
       " 0.7869367,\n",
       " 0.92711145,\n",
       " 0.94755,\n",
       " 0.42940682,\n",
       " 0.89408821,\n",
       " 0.77572149,\n",
       " 0.82696468,\n",
       " 0.98620403,\n",
       " 0.62208581,\n",
       " 0.822106,\n",
       " 0.98360461,\n",
       " 0.94520593,\n",
       " 0.94627374]"
      ]
     },
     "execution_count": 135,
     "metadata": {},
     "output_type": "execute_result"
    }
   ],
   "source": [
    "test_names.shape\n",
    "test_predict_extracted = []\n",
    "for i in test_predict:\n",
    "    test_predict_extracted.append(i[0])\n",
    "test_predict_extracted\n",
    "#test_predict = pandas.Series(test_predict[0])"
   ]
  },
  {
   "cell_type": "code",
   "execution_count": 142,
   "metadata": {
    "collapsed": true
   },
   "outputs": [],
   "source": [
    "test_predict_extracted = pandas.DataFrame(test_predict_extracted)"
   ]
  },
  {
   "cell_type": "code",
   "execution_count": 143,
   "metadata": {},
   "outputs": [
    {
     "data": {
      "text/html": [
       "<div>\n",
       "<style>\n",
       "    .dataframe thead tr:only-child th {\n",
       "        text-align: right;\n",
       "    }\n",
       "\n",
       "    .dataframe thead th {\n",
       "        text-align: left;\n",
       "    }\n",
       "\n",
       "    .dataframe tbody tr th {\n",
       "        vertical-align: top;\n",
       "    }\n",
       "</style>\n",
       "<table border=\"1\" class=\"dataframe\">\n",
       "  <thead>\n",
       "    <tr style=\"text-align: right;\">\n",
       "      <th></th>\n",
       "      <th>0</th>\n",
       "    </tr>\n",
       "  </thead>\n",
       "  <tbody>\n",
       "    <tr>\n",
       "      <th>0</th>\n",
       "      <td>0.828702</td>\n",
       "    </tr>\n",
       "    <tr>\n",
       "      <th>1</th>\n",
       "      <td>0.779714</td>\n",
       "    </tr>\n",
       "    <tr>\n",
       "      <th>2</th>\n",
       "      <td>0.874027</td>\n",
       "    </tr>\n",
       "    <tr>\n",
       "      <th>3</th>\n",
       "      <td>0.973141</td>\n",
       "    </tr>\n",
       "    <tr>\n",
       "      <th>4</th>\n",
       "      <td>0.742220</td>\n",
       "    </tr>\n",
       "    <tr>\n",
       "      <th>5</th>\n",
       "      <td>0.808124</td>\n",
       "    </tr>\n",
       "    <tr>\n",
       "      <th>6</th>\n",
       "      <td>0.862185</td>\n",
       "    </tr>\n",
       "    <tr>\n",
       "      <th>7</th>\n",
       "      <td>0.910632</td>\n",
       "    </tr>\n",
       "    <tr>\n",
       "      <th>8</th>\n",
       "      <td>0.649998</td>\n",
       "    </tr>\n",
       "    <tr>\n",
       "      <th>9</th>\n",
       "      <td>0.442811</td>\n",
       "    </tr>\n",
       "    <tr>\n",
       "      <th>10</th>\n",
       "      <td>0.870997</td>\n",
       "    </tr>\n",
       "    <tr>\n",
       "      <th>11</th>\n",
       "      <td>0.889752</td>\n",
       "    </tr>\n",
       "    <tr>\n",
       "      <th>12</th>\n",
       "      <td>0.856126</td>\n",
       "    </tr>\n",
       "    <tr>\n",
       "      <th>13</th>\n",
       "      <td>0.976178</td>\n",
       "    </tr>\n",
       "    <tr>\n",
       "      <th>14</th>\n",
       "      <td>0.963858</td>\n",
       "    </tr>\n",
       "    <tr>\n",
       "      <th>15</th>\n",
       "      <td>0.780152</td>\n",
       "    </tr>\n",
       "    <tr>\n",
       "      <th>16</th>\n",
       "      <td>0.914999</td>\n",
       "    </tr>\n",
       "    <tr>\n",
       "      <th>17</th>\n",
       "      <td>0.975946</td>\n",
       "    </tr>\n",
       "    <tr>\n",
       "      <th>18</th>\n",
       "      <td>0.249230</td>\n",
       "    </tr>\n",
       "    <tr>\n",
       "      <th>19</th>\n",
       "      <td>0.813846</td>\n",
       "    </tr>\n",
       "    <tr>\n",
       "      <th>20</th>\n",
       "      <td>0.918638</td>\n",
       "    </tr>\n",
       "    <tr>\n",
       "      <th>21</th>\n",
       "      <td>0.665465</td>\n",
       "    </tr>\n",
       "    <tr>\n",
       "      <th>22</th>\n",
       "      <td>0.357940</td>\n",
       "    </tr>\n",
       "    <tr>\n",
       "      <th>23</th>\n",
       "      <td>0.725382</td>\n",
       "    </tr>\n",
       "    <tr>\n",
       "      <th>24</th>\n",
       "      <td>0.713424</td>\n",
       "    </tr>\n",
       "    <tr>\n",
       "      <th>25</th>\n",
       "      <td>0.913538</td>\n",
       "    </tr>\n",
       "    <tr>\n",
       "      <th>26</th>\n",
       "      <td>0.479495</td>\n",
       "    </tr>\n",
       "    <tr>\n",
       "      <th>27</th>\n",
       "      <td>0.818532</td>\n",
       "    </tr>\n",
       "    <tr>\n",
       "      <th>28</th>\n",
       "      <td>0.786937</td>\n",
       "    </tr>\n",
       "    <tr>\n",
       "      <th>29</th>\n",
       "      <td>0.927111</td>\n",
       "    </tr>\n",
       "    <tr>\n",
       "      <th>30</th>\n",
       "      <td>0.947550</td>\n",
       "    </tr>\n",
       "    <tr>\n",
       "      <th>31</th>\n",
       "      <td>0.429407</td>\n",
       "    </tr>\n",
       "    <tr>\n",
       "      <th>32</th>\n",
       "      <td>0.894088</td>\n",
       "    </tr>\n",
       "    <tr>\n",
       "      <th>33</th>\n",
       "      <td>0.775721</td>\n",
       "    </tr>\n",
       "    <tr>\n",
       "      <th>34</th>\n",
       "      <td>0.826965</td>\n",
       "    </tr>\n",
       "    <tr>\n",
       "      <th>35</th>\n",
       "      <td>0.986204</td>\n",
       "    </tr>\n",
       "    <tr>\n",
       "      <th>36</th>\n",
       "      <td>0.622086</td>\n",
       "    </tr>\n",
       "    <tr>\n",
       "      <th>37</th>\n",
       "      <td>0.822106</td>\n",
       "    </tr>\n",
       "    <tr>\n",
       "      <th>38</th>\n",
       "      <td>0.983605</td>\n",
       "    </tr>\n",
       "    <tr>\n",
       "      <th>39</th>\n",
       "      <td>0.945206</td>\n",
       "    </tr>\n",
       "    <tr>\n",
       "      <th>40</th>\n",
       "      <td>0.946274</td>\n",
       "    </tr>\n",
       "  </tbody>\n",
       "</table>\n",
       "</div>"
      ],
      "text/plain": [
       "           0\n",
       "0   0.828702\n",
       "1   0.779714\n",
       "2   0.874027\n",
       "3   0.973141\n",
       "4   0.742220\n",
       "5   0.808124\n",
       "6   0.862185\n",
       "7   0.910632\n",
       "8   0.649998\n",
       "9   0.442811\n",
       "10  0.870997\n",
       "11  0.889752\n",
       "12  0.856126\n",
       "13  0.976178\n",
       "14  0.963858\n",
       "15  0.780152\n",
       "16  0.914999\n",
       "17  0.975946\n",
       "18  0.249230\n",
       "19  0.813846\n",
       "20  0.918638\n",
       "21  0.665465\n",
       "22  0.357940\n",
       "23  0.725382\n",
       "24  0.713424\n",
       "25  0.913538\n",
       "26  0.479495\n",
       "27  0.818532\n",
       "28  0.786937\n",
       "29  0.927111\n",
       "30  0.947550\n",
       "31  0.429407\n",
       "32  0.894088\n",
       "33  0.775721\n",
       "34  0.826965\n",
       "35  0.986204\n",
       "36  0.622086\n",
       "37  0.822106\n",
       "38  0.983605\n",
       "39  0.945206\n",
       "40  0.946274"
      ]
     },
     "execution_count": 143,
     "metadata": {},
     "output_type": "execute_result"
    }
   ],
   "source": [
    "test_predict_extracted"
   ]
  },
  {
   "cell_type": "code",
   "execution_count": 145,
   "metadata": {},
   "outputs": [
    {
     "ename": "AttributeError",
     "evalue": "'DataFrame' object has no attribute 'map'",
     "output_type": "error",
     "traceback": [
      "\u001b[0;31m---------------------------------------------------------------------------\u001b[0m",
      "\u001b[0;31mAttributeError\u001b[0m                            Traceback (most recent call last)",
      "\u001b[0;32m<ipython-input-145-a9cbb30f07d1>\u001b[0m in \u001b[0;36m<module>\u001b[0;34m()\u001b[0m\n\u001b[1;32m      1\u001b[0m \u001b[0mtest_names_predictions\u001b[0m \u001b[0;34m=\u001b[0m \u001b[0mpandas\u001b[0m\u001b[0;34m.\u001b[0m\u001b[0mDataFrame\u001b[0m\u001b[0;34m(\u001b[0m\u001b[0mtest_names\u001b[0m\u001b[0;34m)\u001b[0m\u001b[0;34m\u001b[0m\u001b[0m\n\u001b[0;32m----> 2\u001b[0;31m \u001b[0mtest_names_predictions\u001b[0m \u001b[0;34m=\u001b[0m \u001b[0mtest_names_predictions\u001b[0m\u001b[0;34m.\u001b[0m\u001b[0mmap\u001b[0m\u001b[0;34m(\u001b[0m\u001b[0mtest_predict_extracted\u001b[0m\u001b[0;34m)\u001b[0m\u001b[0;34m\u001b[0m\u001b[0m\n\u001b[0m",
      "\u001b[0;32m/usr/local/lib/python3.4/dist-packages/pandas/core/generic.py\u001b[0m in \u001b[0;36m__getattr__\u001b[0;34m(self, name)\u001b[0m\n\u001b[1;32m   3079\u001b[0m             \u001b[0;32mif\u001b[0m \u001b[0mname\u001b[0m \u001b[0;32min\u001b[0m \u001b[0mself\u001b[0m\u001b[0;34m.\u001b[0m\u001b[0m_info_axis\u001b[0m\u001b[0;34m:\u001b[0m\u001b[0;34m\u001b[0m\u001b[0m\n\u001b[1;32m   3080\u001b[0m                 \u001b[0;32mreturn\u001b[0m \u001b[0mself\u001b[0m\u001b[0;34m[\u001b[0m\u001b[0mname\u001b[0m\u001b[0;34m]\u001b[0m\u001b[0;34m\u001b[0m\u001b[0m\n\u001b[0;32m-> 3081\u001b[0;31m             \u001b[0;32mreturn\u001b[0m \u001b[0mobject\u001b[0m\u001b[0;34m.\u001b[0m\u001b[0m__getattribute__\u001b[0m\u001b[0;34m(\u001b[0m\u001b[0mself\u001b[0m\u001b[0;34m,\u001b[0m \u001b[0mname\u001b[0m\u001b[0;34m)\u001b[0m\u001b[0;34m\u001b[0m\u001b[0m\n\u001b[0m\u001b[1;32m   3082\u001b[0m \u001b[0;34m\u001b[0m\u001b[0m\n\u001b[1;32m   3083\u001b[0m     \u001b[0;32mdef\u001b[0m \u001b[0m__setattr__\u001b[0m\u001b[0;34m(\u001b[0m\u001b[0mself\u001b[0m\u001b[0;34m,\u001b[0m \u001b[0mname\u001b[0m\u001b[0;34m,\u001b[0m \u001b[0mvalue\u001b[0m\u001b[0;34m)\u001b[0m\u001b[0;34m:\u001b[0m\u001b[0;34m\u001b[0m\u001b[0m\n",
      "\u001b[0;31mAttributeError\u001b[0m: 'DataFrame' object has no attribute 'map'"
     ]
    }
   ],
   "source": [
    "test_names_predictions = pandas.DataFrame(test_names)\n",
    "test_names_predictions = test_names_predictions.map(test_predict_extracted)"
   ]
  },
  {
   "cell_type": "code",
   "execution_count": null,
   "metadata": {
    "collapsed": true
   },
   "outputs": [],
   "source": []
  }
 ],
 "metadata": {
  "anaconda-cloud": {},
  "kernelspec": {
   "display_name": "Python 3",
   "language": "python",
   "name": "python3"
  },
  "language_info": {
   "codemirror_mode": {
    "name": "ipython",
    "version": 3
   },
   "file_extension": ".py",
   "mimetype": "text/x-python",
   "name": "python",
   "nbconvert_exporter": "python",
   "pygments_lexer": "ipython3",
   "version": "3.4.3"
  }
 },
 "nbformat": 4,
 "nbformat_minor": 1
}
