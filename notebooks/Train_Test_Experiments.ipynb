{
 "cells": [
  {
   "cell_type": "code",
   "execution_count": 1,
   "metadata": {},
   "outputs": [
    {
     "name": "stderr",
     "output_type": "stream",
     "text": [
      "Using TensorFlow backend.\n"
     ]
    }
   ],
   "source": [
    "from person2vec.train_embeddings import train"
   ]
  },
  {
   "cell_type": "code",
   "execution_count": null,
   "metadata": {},
   "outputs": [],
   "source": [
    "model = train.train_model(epochs=30)"
   ]
  },
  {
   "cell_type": "code",
   "execution_count": 2,
   "metadata": {},
   "outputs": [],
   "source": [
    "from person2vec.test_embeddings import test_tasks"
   ]
  },
  {
   "cell_type": "code",
   "execution_count": null,
   "metadata": {},
   "outputs": [],
   "source": [
    "test_tasks.test_model(model)"
   ]
  },
  {
   "cell_type": "code",
   "execution_count": null,
   "metadata": {},
   "outputs": [],
   "source": [
    "model = train.train_model(model=model, epochs=30)"
   ]
  },
  {
   "cell_type": "code",
   "execution_count": null,
   "metadata": {},
   "outputs": [],
   "source": [
    "test_tasks.test_model(model)"
   ]
  },
  {
   "cell_type": "code",
   "execution_count": null,
   "metadata": {
    "collapsed": true
   },
   "outputs": [],
   "source": [
    "model.save_weights('../person2vec/data/weights/dense1000_60epoch_97genderacc.h5')"
   ]
  },
  {
   "cell_type": "code",
   "execution_count": null,
   "metadata": {
    "collapsed": true
   },
   "outputs": [],
   "source": [
    "model2 = train._build_default_model()"
   ]
  },
  {
   "cell_type": "code",
   "execution_count": null,
   "metadata": {
    "collapsed": true
   },
   "outputs": [],
   "source": [
    "model2.load_weights('../person2vec/data/weights/dense1000_60epoch_97genderacc.h5')"
   ]
  },
  {
   "cell_type": "code",
   "execution_count": null,
   "metadata": {},
   "outputs": [],
   "source": [
    "model = train.train_model(model=model2, epochs=1)"
   ]
  },
  {
   "cell_type": "code",
   "execution_count": null,
   "metadata": {
    "collapsed": true
   },
   "outputs": [],
   "source": []
  },
  {
   "cell_type": "code",
   "execution_count": 3,
   "metadata": {},
   "outputs": [],
   "source": [
    "from person2vec.generators import training_data_generator"
   ]
  },
  {
   "cell_type": "code",
   "execution_count": 4,
   "metadata": {},
   "outputs": [],
   "source": [
    "data_gen = training_data_generator.EmbeddingDataGenerator(300,4)"
   ]
  },
  {
   "cell_type": "code",
   "execution_count": 5,
   "metadata": {},
   "outputs": [
    {
     "name": "stdout",
     "output_type": "stream",
     "text": [
      "Train on 750 samples, validate on 252 samples\n",
      "Epoch 1/90\n",
      "750/750 [==============================] - 0s - loss: 0.2367 - acc: 0.5813 - val_loss: 0.2304 - val_acc: 0.5754\n",
      "Epoch 2/90\n",
      "750/750 [==============================] - 0s - loss: 0.2126 - acc: 0.6773 - val_loss: 0.2107 - val_acc: 0.6587\n",
      "Epoch 3/90\n",
      "750/750 [==============================] - 0s - loss: 0.1952 - acc: 0.7347 - val_loss: 0.1919 - val_acc: 0.7143\n",
      "Epoch 4/90\n",
      "750/750 [==============================] - 0s - loss: 0.1803 - acc: 0.7707 - val_loss: 0.1783 - val_acc: 0.7500\n",
      "Epoch 5/90\n",
      "750/750 [==============================] - 0s - loss: 0.1673 - acc: 0.8080 - val_loss: 0.1650 - val_acc: 0.8135\n",
      "Epoch 6/90\n",
      "750/750 [==============================] - 0s - loss: 0.1558 - acc: 0.8400 - val_loss: 0.1533 - val_acc: 0.8611\n",
      "Epoch 7/90\n",
      "750/750 [==============================] - 0s - loss: 0.1460 - acc: 0.8733 - val_loss: 0.1428 - val_acc: 0.8929\n",
      "Epoch 8/90\n",
      "750/750 [==============================] - 0s - loss: 0.1369 - acc: 0.8840 - val_loss: 0.1354 - val_acc: 0.9048\n",
      "Epoch 9/90\n",
      "750/750 [==============================] - 0s - loss: 0.1291 - acc: 0.8933 - val_loss: 0.1292 - val_acc: 0.9167\n",
      "Epoch 10/90\n",
      "750/750 [==============================] - 0s - loss: 0.1222 - acc: 0.9040 - val_loss: 0.1231 - val_acc: 0.9206\n",
      "Epoch 11/90\n",
      "750/750 [==============================] - 0s - loss: 0.1158 - acc: 0.9080 - val_loss: 0.1182 - val_acc: 0.9246\n",
      "Epoch 12/90\n",
      "750/750 [==============================] - 0s - loss: 0.1104 - acc: 0.9147 - val_loss: 0.1127 - val_acc: 0.9325\n",
      "Epoch 13/90\n",
      "750/750 [==============================] - 0s - loss: 0.1051 - acc: 0.9173 - val_loss: 0.1089 - val_acc: 0.9325\n",
      "Epoch 14/90\n",
      "750/750 [==============================] - 0s - loss: 0.1006 - acc: 0.9253 - val_loss: 0.1054 - val_acc: 0.9325\n",
      "Epoch 15/90\n",
      "750/750 [==============================] - 0s - loss: 0.0965 - acc: 0.9280 - val_loss: 0.1017 - val_acc: 0.9286\n",
      "Epoch 16/90\n",
      "750/750 [==============================] - 0s - loss: 0.0926 - acc: 0.9267 - val_loss: 0.0986 - val_acc: 0.9286\n",
      "Epoch 17/90\n",
      "750/750 [==============================] - 0s - loss: 0.0893 - acc: 0.9293 - val_loss: 0.0960 - val_acc: 0.9286\n",
      "Epoch 18/90\n",
      "750/750 [==============================] - 0s - loss: 0.0862 - acc: 0.9320 - val_loss: 0.0936 - val_acc: 0.9286\n",
      "Epoch 19/90\n",
      "750/750 [==============================] - 0s - loss: 0.0834 - acc: 0.9320 - val_loss: 0.0909 - val_acc: 0.9286\n",
      "Epoch 20/90\n",
      "750/750 [==============================] - 0s - loss: 0.0806 - acc: 0.9387 - val_loss: 0.0891 - val_acc: 0.9325\n",
      "Epoch 21/90\n",
      "750/750 [==============================] - 0s - loss: 0.0782 - acc: 0.9427 - val_loss: 0.0873 - val_acc: 0.9365\n",
      "Epoch 22/90\n",
      "750/750 [==============================] - 0s - loss: 0.0758 - acc: 0.9467 - val_loss: 0.0857 - val_acc: 0.9365\n",
      "Epoch 23/90\n",
      "750/750 [==============================] - 0s - loss: 0.0738 - acc: 0.9480 - val_loss: 0.0840 - val_acc: 0.9365\n",
      "Epoch 24/90\n",
      "750/750 [==============================] - 0s - loss: 0.0718 - acc: 0.9493 - val_loss: 0.0829 - val_acc: 0.9365\n",
      "Epoch 25/90\n",
      "750/750 [==============================] - 0s - loss: 0.0699 - acc: 0.9533 - val_loss: 0.0810 - val_acc: 0.9365\n",
      "Epoch 26/90\n",
      "750/750 [==============================] - 0s - loss: 0.0682 - acc: 0.9507 - val_loss: 0.0799 - val_acc: 0.9405\n",
      "Epoch 27/90\n",
      "750/750 [==============================] - 0s - loss: 0.0665 - acc: 0.9547 - val_loss: 0.0788 - val_acc: 0.9405\n",
      "Epoch 28/90\n",
      "750/750 [==============================] - 0s - loss: 0.0650 - acc: 0.9547 - val_loss: 0.0778 - val_acc: 0.9405\n",
      "Epoch 29/90\n",
      "750/750 [==============================] - 0s - loss: 0.0636 - acc: 0.9547 - val_loss: 0.0765 - val_acc: 0.9405\n",
      "Epoch 30/90\n",
      "750/750 [==============================] - 0s - loss: 0.0622 - acc: 0.9573 - val_loss: 0.0757 - val_acc: 0.9365\n",
      "Epoch 31/90\n",
      "750/750 [==============================] - 0s - loss: 0.0609 - acc: 0.9600 - val_loss: 0.0746 - val_acc: 0.9365\n",
      "Epoch 32/90\n",
      "750/750 [==============================] - 0s - loss: 0.0596 - acc: 0.9600 - val_loss: 0.0739 - val_acc: 0.9365\n",
      "Epoch 33/90\n",
      "750/750 [==============================] - 0s - loss: 0.0585 - acc: 0.9600 - val_loss: 0.0731 - val_acc: 0.9365\n",
      "Epoch 34/90\n",
      "750/750 [==============================] - 0s - loss: 0.0574 - acc: 0.9613 - val_loss: 0.0721 - val_acc: 0.9365\n",
      "Epoch 35/90\n",
      "750/750 [==============================] - 0s - loss: 0.0563 - acc: 0.9627 - val_loss: 0.0715 - val_acc: 0.9365\n",
      "Epoch 36/90\n",
      "750/750 [==============================] - 0s - loss: 0.0553 - acc: 0.9613 - val_loss: 0.0704 - val_acc: 0.9365\n",
      "Epoch 37/90\n",
      "750/750 [==============================] - 0s - loss: 0.0543 - acc: 0.9613 - val_loss: 0.0699 - val_acc: 0.9405\n",
      "Epoch 38/90\n",
      "750/750 [==============================] - 0s - loss: 0.0535 - acc: 0.9627 - val_loss: 0.0698 - val_acc: 0.9405\n",
      "Epoch 39/90\n",
      "750/750 [==============================] - 0s - loss: 0.0525 - acc: 0.9640 - val_loss: 0.0692 - val_acc: 0.9484\n",
      "Epoch 40/90\n",
      "750/750 [==============================] - 0s - loss: 0.0517 - acc: 0.9627 - val_loss: 0.0684 - val_acc: 0.9484\n",
      "Epoch 41/90\n",
      "750/750 [==============================] - 0s - loss: 0.0508 - acc: 0.9640 - val_loss: 0.0680 - val_acc: 0.9484\n",
      "Epoch 42/90\n",
      "750/750 [==============================] - 0s - loss: 0.0500 - acc: 0.9640 - val_loss: 0.0674 - val_acc: 0.9444\n",
      "Epoch 43/90\n",
      "750/750 [==============================] - 0s - loss: 0.0493 - acc: 0.9667 - val_loss: 0.0668 - val_acc: 0.9484\n",
      "Epoch 44/90\n",
      "750/750 [==============================] - 0s - loss: 0.0485 - acc: 0.9667 - val_loss: 0.0663 - val_acc: 0.9484\n",
      "Epoch 45/90\n",
      "750/750 [==============================] - 0s - loss: 0.0479 - acc: 0.9667 - val_loss: 0.0656 - val_acc: 0.9484\n",
      "Epoch 46/90\n",
      "750/750 [==============================] - 0s - loss: 0.0472 - acc: 0.9667 - val_loss: 0.0654 - val_acc: 0.9444\n",
      "Epoch 47/90\n",
      "750/750 [==============================] - 0s - loss: 0.0465 - acc: 0.9667 - val_loss: 0.0652 - val_acc: 0.9444\n",
      "Epoch 48/90\n",
      "750/750 [==============================] - 0s - loss: 0.0459 - acc: 0.9667 - val_loss: 0.0645 - val_acc: 0.9484\n",
      "Epoch 49/90\n",
      "750/750 [==============================] - 0s - loss: 0.0452 - acc: 0.9667 - val_loss: 0.0641 - val_acc: 0.9444\n",
      "Epoch 50/90\n",
      "750/750 [==============================] - 0s - loss: 0.0446 - acc: 0.9653 - val_loss: 0.0639 - val_acc: 0.9444\n",
      "Epoch 51/90\n",
      "750/750 [==============================] - 0s - loss: 0.0440 - acc: 0.9667 - val_loss: 0.0635 - val_acc: 0.9444\n",
      "Epoch 52/90\n",
      "750/750 [==============================] - 0s - loss: 0.0435 - acc: 0.9693 - val_loss: 0.0631 - val_acc: 0.9444\n",
      "Epoch 53/90\n",
      "750/750 [==============================] - 0s - loss: 0.0429 - acc: 0.9693 - val_loss: 0.0628 - val_acc: 0.9444\n",
      "Epoch 54/90\n",
      "750/750 [==============================] - 0s - loss: 0.0424 - acc: 0.9693 - val_loss: 0.0626 - val_acc: 0.9444\n",
      "Epoch 55/90\n",
      "750/750 [==============================] - 0s - loss: 0.0419 - acc: 0.9693 - val_loss: 0.0624 - val_acc: 0.9405\n",
      "Epoch 56/90\n",
      "750/750 [==============================] - 0s - loss: 0.0414 - acc: 0.9693 - val_loss: 0.0620 - val_acc: 0.9405\n",
      "Epoch 57/90\n",
      "750/750 [==============================] - 0s - loss: 0.0409 - acc: 0.9693 - val_loss: 0.0616 - val_acc: 0.9405\n",
      "Epoch 58/90\n",
      "750/750 [==============================] - 0s - loss: 0.0405 - acc: 0.9720 - val_loss: 0.0614 - val_acc: 0.9405\n",
      "Epoch 59/90\n",
      "750/750 [==============================] - 0s - loss: 0.0401 - acc: 0.9733 - val_loss: 0.0612 - val_acc: 0.9405\n",
      "Epoch 60/90\n",
      "750/750 [==============================] - 0s - loss: 0.0396 - acc: 0.9733 - val_loss: 0.0610 - val_acc: 0.9405\n",
      "Epoch 61/90\n",
      "750/750 [==============================] - 0s - loss: 0.0392 - acc: 0.9733 - val_loss: 0.0608 - val_acc: 0.9405\n",
      "Epoch 62/90\n",
      "750/750 [==============================] - 0s - loss: 0.0386 - acc: 0.9733 - val_loss: 0.0605 - val_acc: 0.9405\n",
      "Epoch 63/90\n",
      "750/750 [==============================] - 0s - loss: 0.0382 - acc: 0.9733 - val_loss: 0.0600 - val_acc: 0.9405\n",
      "Epoch 64/90\n",
      "750/750 [==============================] - 0s - loss: 0.0379 - acc: 0.9733 - val_loss: 0.0597 - val_acc: 0.9444\n",
      "Epoch 65/90\n",
      "750/750 [==============================] - 0s - loss: 0.0374 - acc: 0.9747 - val_loss: 0.0597 - val_acc: 0.9405\n",
      "Epoch 66/90\n"
     ]
    },
    {
     "name": "stdout",
     "output_type": "stream",
     "text": [
      "750/750 [==============================] - 0s - loss: 0.0371 - acc: 0.9760 - val_loss: 0.0596 - val_acc: 0.9405\n",
      "Epoch 67/90\n",
      "750/750 [==============================] - 0s - loss: 0.0367 - acc: 0.9773 - val_loss: 0.0593 - val_acc: 0.9405\n",
      "Epoch 68/90\n",
      "750/750 [==============================] - 0s - loss: 0.0363 - acc: 0.9787 - val_loss: 0.0592 - val_acc: 0.9405\n",
      "Epoch 69/90\n",
      "750/750 [==============================] - 0s - loss: 0.0359 - acc: 0.9800 - val_loss: 0.0590 - val_acc: 0.9405\n",
      "Epoch 70/90\n",
      "750/750 [==============================] - 0s - loss: 0.0356 - acc: 0.9800 - val_loss: 0.0590 - val_acc: 0.9405\n",
      "Epoch 71/90\n",
      "750/750 [==============================] - 0s - loss: 0.0352 - acc: 0.9800 - val_loss: 0.0587 - val_acc: 0.9405\n",
      "Epoch 72/90\n",
      "750/750 [==============================] - 0s - loss: 0.0349 - acc: 0.9800 - val_loss: 0.0584 - val_acc: 0.9405\n",
      "Epoch 73/90\n",
      "750/750 [==============================] - 0s - loss: 0.0346 - acc: 0.9800 - val_loss: 0.0585 - val_acc: 0.9405\n",
      "Epoch 74/90\n",
      "750/750 [==============================] - 0s - loss: 0.0342 - acc: 0.9813 - val_loss: 0.0581 - val_acc: 0.9405\n",
      "Epoch 75/90\n",
      "750/750 [==============================] - 0s - loss: 0.0339 - acc: 0.9813 - val_loss: 0.0580 - val_acc: 0.9405\n",
      "Epoch 76/90\n",
      "750/750 [==============================] - 0s - loss: 0.0336 - acc: 0.9813 - val_loss: 0.0577 - val_acc: 0.9405\n",
      "Epoch 77/90\n",
      "750/750 [==============================] - 0s - loss: 0.0332 - acc: 0.9827 - val_loss: 0.0577 - val_acc: 0.9405\n",
      "Epoch 78/90\n",
      "750/750 [==============================] - 0s - loss: 0.0329 - acc: 0.9813 - val_loss: 0.0576 - val_acc: 0.9405\n",
      "Epoch 79/90\n",
      "750/750 [==============================] - 0s - loss: 0.0326 - acc: 0.9827 - val_loss: 0.0574 - val_acc: 0.9405\n",
      "Epoch 80/90\n",
      "750/750 [==============================] - 0s - loss: 0.0323 - acc: 0.9827 - val_loss: 0.0572 - val_acc: 0.9405\n",
      "Epoch 81/90\n",
      "750/750 [==============================] - 0s - loss: 0.0321 - acc: 0.9813 - val_loss: 0.0571 - val_acc: 0.9405\n",
      "Epoch 82/90\n",
      "750/750 [==============================] - 0s - loss: 0.0318 - acc: 0.9840 - val_loss: 0.0570 - val_acc: 0.9405\n",
      "Epoch 83/90\n",
      "750/750 [==============================] - 0s - loss: 0.0315 - acc: 0.9840 - val_loss: 0.0568 - val_acc: 0.9405\n",
      "Epoch 84/90\n",
      "750/750 [==============================] - 0s - loss: 0.0312 - acc: 0.9840 - val_loss: 0.0569 - val_acc: 0.9405\n",
      "Epoch 85/90\n",
      "750/750 [==============================] - 0s - loss: 0.0309 - acc: 0.9840 - val_loss: 0.0565 - val_acc: 0.9405\n",
      "Epoch 86/90\n",
      "750/750 [==============================] - 0s - loss: 0.0307 - acc: 0.9840 - val_loss: 0.0566 - val_acc: 0.9405\n",
      "Epoch 87/90\n",
      "750/750 [==============================] - 0s - loss: 0.0305 - acc: 0.9853 - val_loss: 0.0563 - val_acc: 0.9405\n",
      "Epoch 88/90\n",
      "750/750 [==============================] - 0s - loss: 0.0302 - acc: 0.9867 - val_loss: 0.0562 - val_acc: 0.9405\n",
      "Epoch 89/90\n",
      "750/750 [==============================] - 0s - loss: 0.0299 - acc: 0.9853 - val_loss: 0.0563 - val_acc: 0.9405\n",
      "Epoch 90/90\n",
      "750/750 [==============================] - 0s - loss: 0.0297 - acc: 0.9867 - val_loss: 0.0561 - val_acc: 0.9405\n"
     ]
    }
   ],
   "source": [
    "test_tasks.test_word2vec(data_gen.word_vectors, data_gen=data_gen)"
   ]
  },
  {
   "cell_type": "code",
   "execution_count": 6,
   "metadata": {
    "collapsed": true
   },
   "outputs": [],
   "source": [
    "import pickle"
   ]
  },
  {
   "cell_type": "code",
   "execution_count": 7,
   "metadata": {
    "collapsed": true
   },
   "outputs": [],
   "source": [
    "embeds = pickle.load(open(\"../person2vec/data/weights/embed_weights_1.pk\", \"rb\" ))"
   ]
  },
  {
   "cell_type": "code",
   "execution_count": 8,
   "metadata": {},
   "outputs": [
    {
     "name": "stdout",
     "output_type": "stream",
     "text": [
      "Train on 750 samples, validate on 252 samples\n",
      "Epoch 1/90\n",
      "750/750 [==============================] - 0s - loss: 0.2403 - acc: 0.5613 - val_loss: 0.1836 - val_acc: 0.8016\n",
      "Epoch 2/90\n",
      "750/750 [==============================] - 0s - loss: 0.1393 - acc: 0.9040 - val_loss: 0.1141 - val_acc: 0.9365\n",
      "Epoch 3/90\n",
      "750/750 [==============================] - 0s - loss: 0.0918 - acc: 0.9627 - val_loss: 0.0834 - val_acc: 0.9603\n",
      "Epoch 4/90\n",
      "750/750 [==============================] - 0s - loss: 0.0690 - acc: 0.9680 - val_loss: 0.0674 - val_acc: 0.9603\n",
      "Epoch 5/90\n",
      "750/750 [==============================] - 0s - loss: 0.0564 - acc: 0.9760 - val_loss: 0.0584 - val_acc: 0.9683\n",
      "Epoch 6/90\n",
      "750/750 [==============================] - 0s - loss: 0.0485 - acc: 0.9760 - val_loss: 0.0517 - val_acc: 0.9683\n",
      "Epoch 7/90\n",
      "750/750 [==============================] - 0s - loss: 0.0428 - acc: 0.9760 - val_loss: 0.0475 - val_acc: 0.9683\n",
      "Epoch 8/90\n",
      "750/750 [==============================] - 0s - loss: 0.0384 - acc: 0.9773 - val_loss: 0.0439 - val_acc: 0.9683\n",
      "Epoch 9/90\n",
      "750/750 [==============================] - 0s - loss: 0.0352 - acc: 0.9787 - val_loss: 0.0406 - val_acc: 0.9683\n",
      "Epoch 10/90\n",
      "750/750 [==============================] - 0s - loss: 0.0326 - acc: 0.9827 - val_loss: 0.0385 - val_acc: 0.9683\n",
      "Epoch 11/90\n",
      "750/750 [==============================] - 0s - loss: 0.0302 - acc: 0.9827 - val_loss: 0.0368 - val_acc: 0.9683\n",
      "Epoch 12/90\n",
      "750/750 [==============================] - 0s - loss: 0.0284 - acc: 0.9840 - val_loss: 0.0352 - val_acc: 0.9683\n",
      "Epoch 13/90\n",
      "750/750 [==============================] - 0s - loss: 0.0268 - acc: 0.9840 - val_loss: 0.0338 - val_acc: 0.9683\n",
      "Epoch 14/90\n",
      "750/750 [==============================] - 0s - loss: 0.0255 - acc: 0.9840 - val_loss: 0.0327 - val_acc: 0.9722\n",
      "Epoch 15/90\n",
      "750/750 [==============================] - 0s - loss: 0.0244 - acc: 0.9840 - val_loss: 0.0314 - val_acc: 0.9722\n",
      "Epoch 16/90\n",
      "750/750 [==============================] - 0s - loss: 0.0231 - acc: 0.9840 - val_loss: 0.0306 - val_acc: 0.9722\n",
      "Epoch 17/90\n",
      "750/750 [==============================] - 0s - loss: 0.0222 - acc: 0.9853 - val_loss: 0.0299 - val_acc: 0.9722\n",
      "Epoch 18/90\n",
      "750/750 [==============================] - 0s - loss: 0.0213 - acc: 0.9880 - val_loss: 0.0289 - val_acc: 0.9722\n",
      "Epoch 19/90\n",
      "750/750 [==============================] - 0s - loss: 0.0205 - acc: 0.9867 - val_loss: 0.0283 - val_acc: 0.9722\n",
      "Epoch 20/90\n",
      "750/750 [==============================] - 0s - loss: 0.0198 - acc: 0.9880 - val_loss: 0.0275 - val_acc: 0.9722\n",
      "Epoch 21/90\n",
      "750/750 [==============================] - 0s - loss: 0.0191 - acc: 0.9893 - val_loss: 0.0272 - val_acc: 0.9722\n",
      "Epoch 22/90\n",
      "750/750 [==============================] - 0s - loss: 0.0186 - acc: 0.9893 - val_loss: 0.0264 - val_acc: 0.9722\n",
      "Epoch 23/90\n",
      "750/750 [==============================] - 0s - loss: 0.0180 - acc: 0.9893 - val_loss: 0.0260 - val_acc: 0.9762\n",
      "Epoch 24/90\n",
      "750/750 [==============================] - 0s - loss: 0.0174 - acc: 0.9893 - val_loss: 0.0257 - val_acc: 0.9722\n",
      "Epoch 25/90\n",
      "750/750 [==============================] - 0s - loss: 0.0169 - acc: 0.9893 - val_loss: 0.0253 - val_acc: 0.9762\n",
      "Epoch 26/90\n",
      "750/750 [==============================] - 0s - loss: 0.0164 - acc: 0.9893 - val_loss: 0.0247 - val_acc: 0.9722\n",
      "Epoch 27/90\n",
      "750/750 [==============================] - 0s - loss: 0.0160 - acc: 0.9893 - val_loss: 0.0245 - val_acc: 0.9722\n",
      "Epoch 28/90\n",
      "750/750 [==============================] - 0s - loss: 0.0156 - acc: 0.9893 - val_loss: 0.0239 - val_acc: 0.9722\n",
      "Epoch 29/90\n",
      "750/750 [==============================] - 0s - loss: 0.0152 - acc: 0.9907 - val_loss: 0.0239 - val_acc: 0.9762\n",
      "Epoch 30/90\n",
      "750/750 [==============================] - 0s - loss: 0.0148 - acc: 0.9907 - val_loss: 0.0234 - val_acc: 0.9722\n",
      "Epoch 31/90\n",
      "750/750 [==============================] - 0s - loss: 0.0145 - acc: 0.9907 - val_loss: 0.0230 - val_acc: 0.9762\n",
      "Epoch 32/90\n",
      "750/750 [==============================] - 0s - loss: 0.0142 - acc: 0.9907 - val_loss: 0.0230 - val_acc: 0.9722\n",
      "Epoch 33/90\n",
      "750/750 [==============================] - 0s - loss: 0.0139 - acc: 0.9907 - val_loss: 0.0227 - val_acc: 0.9762\n",
      "Epoch 34/90\n",
      "750/750 [==============================] - 0s - loss: 0.0135 - acc: 0.9907 - val_loss: 0.0224 - val_acc: 0.9762\n",
      "Epoch 35/90\n",
      "750/750 [==============================] - 0s - loss: 0.0132 - acc: 0.9920 - val_loss: 0.0221 - val_acc: 0.9762\n",
      "Epoch 36/90\n",
      "750/750 [==============================] - 0s - loss: 0.0129 - acc: 0.9920 - val_loss: 0.0221 - val_acc: 0.9762\n",
      "Epoch 37/90\n",
      "750/750 [==============================] - 0s - loss: 0.0127 - acc: 0.9920 - val_loss: 0.0218 - val_acc: 0.9762\n",
      "Epoch 38/90\n",
      "750/750 [==============================] - 0s - loss: 0.0124 - acc: 0.9920 - val_loss: 0.0215 - val_acc: 0.9762\n",
      "Epoch 39/90\n",
      "750/750 [==============================] - 0s - loss: 0.0123 - acc: 0.9920 - val_loss: 0.0215 - val_acc: 0.9762\n",
      "Epoch 40/90\n",
      "750/750 [==============================] - 0s - loss: 0.0120 - acc: 0.9920 - val_loss: 0.0211 - val_acc: 0.9762\n",
      "Epoch 41/90\n",
      "750/750 [==============================] - 0s - loss: 0.0118 - acc: 0.9920 - val_loss: 0.0210 - val_acc: 0.9762\n",
      "Epoch 42/90\n",
      "750/750 [==============================] - 0s - loss: 0.0115 - acc: 0.9920 - val_loss: 0.0208 - val_acc: 0.9762\n",
      "Epoch 43/90\n",
      "750/750 [==============================] - 0s - loss: 0.0113 - acc: 0.9920 - val_loss: 0.0206 - val_acc: 0.9762\n",
      "Epoch 44/90\n",
      "750/750 [==============================] - 0s - loss: 0.0111 - acc: 0.9920 - val_loss: 0.0205 - val_acc: 0.9762\n",
      "Epoch 45/90\n",
      "750/750 [==============================] - 0s - loss: 0.0109 - acc: 0.9920 - val_loss: 0.0204 - val_acc: 0.9762\n",
      "Epoch 46/90\n",
      "750/750 [==============================] - 0s - loss: 0.0107 - acc: 0.9920 - val_loss: 0.0202 - val_acc: 0.9762\n",
      "Epoch 47/90\n",
      "750/750 [==============================] - 0s - loss: 0.0105 - acc: 0.9920 - val_loss: 0.0201 - val_acc: 0.9762\n",
      "Epoch 48/90\n",
      "750/750 [==============================] - 0s - loss: 0.0105 - acc: 0.9920 - val_loss: 0.0198 - val_acc: 0.9762\n",
      "Epoch 49/90\n",
      "750/750 [==============================] - 0s - loss: 0.0102 - acc: 0.9920 - val_loss: 0.0199 - val_acc: 0.9762\n",
      "Epoch 50/90\n",
      "750/750 [==============================] - 0s - loss: 0.0100 - acc: 0.9920 - val_loss: 0.0196 - val_acc: 0.9762\n",
      "Epoch 51/90\n",
      "750/750 [==============================] - 0s - loss: 0.0100 - acc: 0.9920 - val_loss: 0.0196 - val_acc: 0.9762\n",
      "Epoch 52/90\n",
      "750/750 [==============================] - 0s - loss: 0.0098 - acc: 0.9920 - val_loss: 0.0194 - val_acc: 0.9762\n",
      "Epoch 53/90\n",
      "750/750 [==============================] - 0s - loss: 0.0096 - acc: 0.9920 - val_loss: 0.0194 - val_acc: 0.9762\n",
      "Epoch 54/90\n",
      "750/750 [==============================] - 0s - loss: 0.0095 - acc: 0.9920 - val_loss: 0.0192 - val_acc: 0.9762\n",
      "Epoch 55/90\n",
      "750/750 [==============================] - 0s - loss: 0.0093 - acc: 0.9920 - val_loss: 0.0191 - val_acc: 0.9762\n",
      "Epoch 56/90\n",
      "750/750 [==============================] - 0s - loss: 0.0092 - acc: 0.9933 - val_loss: 0.0190 - val_acc: 0.9762\n",
      "Epoch 57/90\n",
      "750/750 [==============================] - 0s - loss: 0.0090 - acc: 0.9920 - val_loss: 0.0191 - val_acc: 0.9762\n",
      "Epoch 58/90\n",
      "750/750 [==============================] - 0s - loss: 0.0089 - acc: 0.9920 - val_loss: 0.0189 - val_acc: 0.9762\n",
      "Epoch 59/90\n",
      "750/750 [==============================] - 0s - loss: 0.0087 - acc: 0.9920 - val_loss: 0.0187 - val_acc: 0.9762\n",
      "Epoch 60/90\n",
      "750/750 [==============================] - 0s - loss: 0.0087 - acc: 0.9933 - val_loss: 0.0187 - val_acc: 0.9762\n",
      "Epoch 61/90\n",
      "750/750 [==============================] - 0s - loss: 0.0086 - acc: 0.9933 - val_loss: 0.0187 - val_acc: 0.9762\n",
      "Epoch 62/90\n",
      "750/750 [==============================] - 0s - loss: 0.0085 - acc: 0.9933 - val_loss: 0.0186 - val_acc: 0.9762\n",
      "Epoch 63/90\n",
      "750/750 [==============================] - 0s - loss: 0.0082 - acc: 0.9947 - val_loss: 0.0185 - val_acc: 0.9762\n",
      "Epoch 64/90\n",
      "750/750 [==============================] - 0s - loss: 0.0081 - acc: 0.9947 - val_loss: 0.0184 - val_acc: 0.9762\n",
      "Epoch 65/90\n",
      "750/750 [==============================] - 0s - loss: 0.0081 - acc: 0.9947 - val_loss: 0.0182 - val_acc: 0.9762\n",
      "Epoch 66/90\n"
     ]
    },
    {
     "name": "stdout",
     "output_type": "stream",
     "text": [
      "750/750 [==============================] - 0s - loss: 0.0079 - acc: 0.9947 - val_loss: 0.0183 - val_acc: 0.9762\n",
      "Epoch 67/90\n",
      "750/750 [==============================] - 0s - loss: 0.0078 - acc: 0.9947 - val_loss: 0.0183 - val_acc: 0.9762\n",
      "Epoch 68/90\n",
      "750/750 [==============================] - 0s - loss: 0.0077 - acc: 0.9947 - val_loss: 0.0181 - val_acc: 0.9762\n",
      "Epoch 69/90\n",
      "750/750 [==============================] - 0s - loss: 0.0076 - acc: 0.9947 - val_loss: 0.0180 - val_acc: 0.9762\n",
      "Epoch 70/90\n",
      "750/750 [==============================] - ETA: 0s - loss: 0.0077 - acc: 0.994 - 0s - loss: 0.0075 - acc: 0.9947 - val_loss: 0.0180 - val_acc: 0.9762\n",
      "Epoch 71/90\n",
      "750/750 [==============================] - 0s - loss: 0.0074 - acc: 0.9947 - val_loss: 0.0180 - val_acc: 0.9762\n",
      "Epoch 72/90\n",
      "750/750 [==============================] - 0s - loss: 0.0074 - acc: 0.9947 - val_loss: 0.0179 - val_acc: 0.9762\n",
      "Epoch 73/90\n",
      "750/750 [==============================] - 0s - loss: 0.0072 - acc: 0.9947 - val_loss: 0.0177 - val_acc: 0.9762\n",
      "Epoch 74/90\n",
      "750/750 [==============================] - 0s - loss: 0.0071 - acc: 0.9947 - val_loss: 0.0177 - val_acc: 0.9762\n",
      "Epoch 75/90\n",
      "750/750 [==============================] - 0s - loss: 0.0070 - acc: 0.9947 - val_loss: 0.0177 - val_acc: 0.9762\n",
      "Epoch 76/90\n",
      "750/750 [==============================] - 0s - loss: 0.0070 - acc: 0.9947 - val_loss: 0.0175 - val_acc: 0.9762\n",
      "Epoch 77/90\n",
      "750/750 [==============================] - 0s - loss: 0.0068 - acc: 0.9973 - val_loss: 0.0177 - val_acc: 0.9762\n",
      "Epoch 78/90\n",
      "750/750 [==============================] - 0s - loss: 0.0067 - acc: 0.9973 - val_loss: 0.0174 - val_acc: 0.9762\n",
      "Epoch 79/90\n",
      "750/750 [==============================] - 0s - loss: 0.0067 - acc: 0.9960 - val_loss: 0.0172 - val_acc: 0.9762\n",
      "Epoch 80/90\n",
      "750/750 [==============================] - 0s - loss: 0.0066 - acc: 0.9973 - val_loss: 0.0174 - val_acc: 0.9762\n",
      "Epoch 81/90\n",
      "750/750 [==============================] - 0s - loss: 0.0065 - acc: 0.9973 - val_loss: 0.0175 - val_acc: 0.9762\n",
      "Epoch 82/90\n",
      "750/750 [==============================] - 0s - loss: 0.0064 - acc: 0.9973 - val_loss: 0.0175 - val_acc: 0.9762\n",
      "Epoch 83/90\n",
      "750/750 [==============================] - 0s - loss: 0.0063 - acc: 0.9973 - val_loss: 0.0174 - val_acc: 0.9762\n",
      "Epoch 84/90\n",
      "750/750 [==============================] - 0s - loss: 0.0063 - acc: 0.9973 - val_loss: 0.0171 - val_acc: 0.9762\n",
      "Epoch 85/90\n",
      "750/750 [==============================] - 0s - loss: 0.0062 - acc: 0.9973 - val_loss: 0.0173 - val_acc: 0.9762\n",
      "Epoch 86/90\n",
      "750/750 [==============================] - 0s - loss: 0.0061 - acc: 0.9973 - val_loss: 0.0173 - val_acc: 0.9762\n",
      "Epoch 87/90\n",
      "750/750 [==============================] - 0s - loss: 0.0060 - acc: 0.9973 - val_loss: 0.0174 - val_acc: 0.9762\n",
      "Epoch 88/90\n",
      "750/750 [==============================] - 0s - loss: 0.0060 - acc: 0.9973 - val_loss: 0.0170 - val_acc: 0.9802\n",
      "Epoch 89/90\n",
      "750/750 [==============================] - 0s - loss: 0.0059 - acc: 0.9973 - val_loss: 0.0170 - val_acc: 0.9802\n",
      "Epoch 90/90\n",
      "750/750 [==============================] - 0s - loss: 0.0058 - acc: 0.9973 - val_loss: 0.0170 - val_acc: 0.9762\n"
     ]
    }
   ],
   "source": [
    "test_tasks.test_embeddings(embeds, data_gen=data_gen)"
   ]
  },
  {
   "cell_type": "code",
   "execution_count": null,
   "metadata": {
    "collapsed": true
   },
   "outputs": [],
   "source": []
  },
  {
   "cell_type": "code",
   "execution_count": null,
   "metadata": {
    "collapsed": true
   },
   "outputs": [],
   "source": []
  },
  {
   "cell_type": "code",
   "execution_count": null,
   "metadata": {
    "collapsed": true
   },
   "outputs": [],
   "source": []
  },
  {
   "cell_type": "code",
   "execution_count": null,
   "metadata": {
    "collapsed": true
   },
   "outputs": [],
   "source": []
  },
  {
   "cell_type": "code",
   "execution_count": null,
   "metadata": {
    "collapsed": true
   },
   "outputs": [],
   "source": []
  },
  {
   "cell_type": "code",
   "execution_count": null,
   "metadata": {
    "collapsed": true
   },
   "outputs": [],
   "source": []
  },
  {
   "cell_type": "code",
   "execution_count": null,
   "metadata": {
    "collapsed": true
   },
   "outputs": [],
   "source": []
  },
  {
   "cell_type": "code",
   "execution_count": null,
   "metadata": {
    "collapsed": true
   },
   "outputs": [],
   "source": []
  },
  {
   "cell_type": "code",
   "execution_count": null,
   "metadata": {
    "collapsed": true
   },
   "outputs": [],
   "source": []
  },
  {
   "cell_type": "code",
   "execution_count": null,
   "metadata": {},
   "outputs": [],
   "source": [
    "from keras.layers import Input, Flatten, Dropout, Embedding, Dense\n",
    "from keras.layers.merge import Concatenate\n",
    "from keras.models import Model\n",
    "from keras import optimizers"
   ]
  },
  {
   "cell_type": "code",
   "execution_count": null,
   "metadata": {},
   "outputs": [],
   "source": [
    "input_tensor_words = Input(shape=(32,300,), dtype='float32', name='word_input')\n",
    "input_tensor_person = Input(shape=(4,), dtype='int32', name='person_input')\n",
    "\n",
    "#word_embedding_layer = Embedding(10000, 300, input_length=32, name='word_embedding', trainable=False)(input_tensor_words)\n",
    "word_embedding_layer = Flatten()(input_tensor_words)\n",
    "word_embedding_layer = Dropout(0.)(word_embedding_layer)\n",
    "\n",
    "\n",
    "person_embedding_layer = Embedding(1693, 300, input_length=4, name='person_embedding')(input_tensor_person)\n",
    "person_embedding_layer = Flatten()(person_embedding_layer)\n",
    "person_embedding_layer = Dropout(0.)(person_embedding_layer)\n",
    "\n",
    "\n",
    "joint_embeds = Concatenate(name='joint_embeds')([word_embedding_layer, person_embedding_layer])\n",
    "\n",
    "\n",
    "nex = Dropout(0.)(joint_embeds)\n",
    "nex = Dense(100, activation=\"relu\", name='dense_consolidator')(nex)\n",
    "nex = Dropout(0.)(nex)\n",
    "full_out = Dense (4, activation='softmax', name='final_output')(nex)\n",
    "\n",
    "model = Model([input_tensor_words, input_tensor_person], full_out) \n",
    "model.summary()"
   ]
  },
  {
   "cell_type": "code",
   "execution_count": null,
   "metadata": {},
   "outputs": [],
   "source": [
    "import pandas as pd\n",
    "my_list = ['b','c','d','e']\n",
    "my_frame = pd.DataFrame([0,1,2,3])\n",
    "my_frame[0] = my_frame[0].apply(my_function, args = (my_list,))\n",
    "my_frame"
   ]
  },
  {
   "cell_type": "code",
   "execution_count": null,
   "metadata": {},
   "outputs": [],
   "source": [
    "my_frame[0].map(x)"
   ]
  },
  {
   "cell_type": "code",
   "execution_count": null,
   "metadata": {},
   "outputs": [],
   "source": [
    "opt = optimizers.adam()\n",
    "model.compile(optimizer=opt, loss='categorical_crossentropy', metrics=['accuracy'])"
   ]
  },
  {
   "cell_type": "code",
   "execution_count": null,
   "metadata": {
    "collapsed": true
   },
   "outputs": [],
   "source": [
    "def my_function(num, my_list):\n",
    "    return my_list[num]"
   ]
  }
 ],
 "metadata": {
  "kernelspec": {
   "display_name": "Python 3",
   "language": "python",
   "name": "python3"
  },
  "language_info": {
   "codemirror_mode": {
    "name": "ipython",
    "version": 3
   },
   "file_extension": ".py",
   "mimetype": "text/x-python",
   "name": "python",
   "nbconvert_exporter": "python",
   "pygments_lexer": "ipython3",
   "version": "3.4.3"
  }
 },
 "nbformat": 4,
 "nbformat_minor": 2
}
