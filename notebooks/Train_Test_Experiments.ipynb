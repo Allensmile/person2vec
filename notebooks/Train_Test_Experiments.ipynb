{
 "cells": [
  {
   "cell_type": "code",
   "execution_count": 1,
   "metadata": {},
   "outputs": [
    {
     "name": "stderr",
     "output_type": "stream",
     "text": [
      "Using TensorFlow backend.\n"
     ]
    }
   ],
   "source": [
    "from person2vec.train_embeddings import train"
   ]
  },
  {
   "cell_type": "code",
   "execution_count": 2,
   "metadata": {
    "collapsed": true
   },
   "outputs": [],
   "source": [
    "from person2vec.test_embeddings import test_tasks"
   ]
  },
  {
   "cell_type": "code",
   "execution_count": 3,
   "metadata": {
    "collapsed": true
   },
   "outputs": [],
   "source": [
    "from person2vec.generators import training_data_generator"
   ]
  },
  {
   "cell_type": "code",
   "execution_count": 4,
   "metadata": {
    "collapsed": true
   },
   "outputs": [],
   "source": [
    "data_gen = training_data_generator.EmbeddingDataGenerator(300,4)"
   ]
  },
  {
   "cell_type": "code",
   "execution_count": 5,
   "metadata": {},
   "outputs": [
    {
     "name": "stdout",
     "output_type": "stream",
     "text": [
      "Epoch 1/3\n",
      "  67/1024 [>.............................] - ETA: 52s - loss: 1.4045 - acc: 0.2458 ETA: 59s - loss: 1.40"
     ]
    },
    {
     "ename": "ValueError",
     "evalue": "Error when checking input: expected word_input to have 3 dimensions, but got array with shape (32, 1)",
     "output_type": "error",
     "traceback": [
      "\u001b[0;31m---------------------------------------------------------------------------\u001b[0m",
      "\u001b[0;31mValueError\u001b[0m                                Traceback (most recent call last)",
      "\u001b[0;32m<ipython-input-5-d5d10d064db0>\u001b[0m in \u001b[0;36m<module>\u001b[0;34m()\u001b[0m\n\u001b[0;32m----> 1\u001b[0;31m \u001b[0mmodel\u001b[0m \u001b[0;34m=\u001b[0m \u001b[0mtrain\u001b[0m\u001b[0;34m.\u001b[0m\u001b[0mtrain_model\u001b[0m\u001b[0;34m(\u001b[0m\u001b[0mepochs\u001b[0m\u001b[0;34m=\u001b[0m\u001b[0;36m3\u001b[0m\u001b[0;34m,\u001b[0m \u001b[0mdata_gen\u001b[0m\u001b[0;34m=\u001b[0m\u001b[0mdata_gen\u001b[0m\u001b[0;34m)\u001b[0m\u001b[0;34m\u001b[0m\u001b[0m\n\u001b[0m",
      "\u001b[0;32m~/Code/Embedding/Embedding_Project/person2vec/train_embeddings/train.py\u001b[0m in \u001b[0;36mtrain_model\u001b[0;34m(model, epochs, steps_per_epoch, embed_size, word_vec_size, data_gen, num_compare_entities)\u001b[0m\n\u001b[1;32m     77\u001b[0m     \u001b[0mgen\u001b[0m \u001b[0;34m=\u001b[0m \u001b[0mdata_gen\u001b[0m\u001b[0;34m.\u001b[0m\u001b[0mflow_from_db\u001b[0m\u001b[0;34m(\u001b[0m\u001b[0;34m)\u001b[0m\u001b[0;34m\u001b[0m\u001b[0m\n\u001b[1;32m     78\u001b[0m \u001b[0;34m\u001b[0m\u001b[0m\n\u001b[0;32m---> 79\u001b[0;31m     \u001b[0mmodel\u001b[0m\u001b[0;34m.\u001b[0m\u001b[0mfit_generator\u001b[0m\u001b[0;34m(\u001b[0m\u001b[0mgen\u001b[0m\u001b[0;34m,\u001b[0m \u001b[0msteps_per_epoch\u001b[0m\u001b[0;34m=\u001b[0m\u001b[0msteps_per_epoch\u001b[0m\u001b[0;34m,\u001b[0m \u001b[0mepochs\u001b[0m\u001b[0;34m=\u001b[0m\u001b[0mepochs\u001b[0m\u001b[0;34m,\u001b[0m \u001b[0mverbose\u001b[0m\u001b[0;34m=\u001b[0m\u001b[0;36m1\u001b[0m\u001b[0;34m)\u001b[0m\u001b[0;34m\u001b[0m\u001b[0m\n\u001b[0m\u001b[1;32m     80\u001b[0m \u001b[0;34m\u001b[0m\u001b[0m\n\u001b[1;32m     81\u001b[0m     \u001b[0;31m# return the model so user can do more with it later, inspect it, etc.\u001b[0m\u001b[0;34m\u001b[0m\u001b[0;34m\u001b[0m\u001b[0m\n",
      "\u001b[0;32m/usr/local/lib/python3.4/dist-packages/keras/legacy/interfaces.py\u001b[0m in \u001b[0;36mwrapper\u001b[0;34m(*args, **kwargs)\u001b[0m\n\u001b[1;32m     86\u001b[0m                 warnings.warn('Update your `' + object_name +\n\u001b[1;32m     87\u001b[0m                               '` call to the Keras 2 API: ' + signature, stacklevel=2)\n\u001b[0;32m---> 88\u001b[0;31m             \u001b[0;32mreturn\u001b[0m \u001b[0mfunc\u001b[0m\u001b[0;34m(\u001b[0m\u001b[0;34m*\u001b[0m\u001b[0margs\u001b[0m\u001b[0;34m,\u001b[0m \u001b[0;34m**\u001b[0m\u001b[0mkwargs\u001b[0m\u001b[0;34m)\u001b[0m\u001b[0;34m\u001b[0m\u001b[0m\n\u001b[0m\u001b[1;32m     89\u001b[0m         \u001b[0mwrapper\u001b[0m\u001b[0;34m.\u001b[0m\u001b[0m_legacy_support_signature\u001b[0m \u001b[0;34m=\u001b[0m \u001b[0minspect\u001b[0m\u001b[0;34m.\u001b[0m\u001b[0mgetargspec\u001b[0m\u001b[0;34m(\u001b[0m\u001b[0mfunc\u001b[0m\u001b[0;34m)\u001b[0m\u001b[0;34m\u001b[0m\u001b[0m\n\u001b[1;32m     90\u001b[0m         \u001b[0;32mreturn\u001b[0m \u001b[0mwrapper\u001b[0m\u001b[0;34m\u001b[0m\u001b[0m\n",
      "\u001b[0;32m/usr/local/lib/python3.4/dist-packages/keras/engine/training.py\u001b[0m in \u001b[0;36mfit_generator\u001b[0;34m(self, generator, steps_per_epoch, epochs, verbose, callbacks, validation_data, validation_steps, class_weight, max_q_size, workers, pickle_safe, initial_epoch)\u001b[0m\n\u001b[1;32m   1900\u001b[0m                     outs = self.train_on_batch(x, y,\n\u001b[1;32m   1901\u001b[0m                                                \u001b[0msample_weight\u001b[0m\u001b[0;34m=\u001b[0m\u001b[0msample_weight\u001b[0m\u001b[0;34m,\u001b[0m\u001b[0;34m\u001b[0m\u001b[0m\n\u001b[0;32m-> 1902\u001b[0;31m                                                class_weight=class_weight)\n\u001b[0m\u001b[1;32m   1903\u001b[0m \u001b[0;34m\u001b[0m\u001b[0m\n\u001b[1;32m   1904\u001b[0m                     \u001b[0;32mif\u001b[0m \u001b[0;32mnot\u001b[0m \u001b[0misinstance\u001b[0m\u001b[0;34m(\u001b[0m\u001b[0mouts\u001b[0m\u001b[0;34m,\u001b[0m \u001b[0mlist\u001b[0m\u001b[0;34m)\u001b[0m\u001b[0;34m:\u001b[0m\u001b[0;34m\u001b[0m\u001b[0m\n",
      "\u001b[0;32m/usr/local/lib/python3.4/dist-packages/keras/engine/training.py\u001b[0m in \u001b[0;36mtrain_on_batch\u001b[0;34m(self, x, y, sample_weight, class_weight)\u001b[0m\n\u001b[1;32m   1634\u001b[0m             \u001b[0msample_weight\u001b[0m\u001b[0;34m=\u001b[0m\u001b[0msample_weight\u001b[0m\u001b[0;34m,\u001b[0m\u001b[0;34m\u001b[0m\u001b[0m\n\u001b[1;32m   1635\u001b[0m             \u001b[0mclass_weight\u001b[0m\u001b[0;34m=\u001b[0m\u001b[0mclass_weight\u001b[0m\u001b[0;34m,\u001b[0m\u001b[0;34m\u001b[0m\u001b[0m\n\u001b[0;32m-> 1636\u001b[0;31m             check_batch_axis=True)\n\u001b[0m\u001b[1;32m   1637\u001b[0m         \u001b[0;32mif\u001b[0m \u001b[0mself\u001b[0m\u001b[0;34m.\u001b[0m\u001b[0muses_learning_phase\u001b[0m \u001b[0;32mand\u001b[0m \u001b[0;32mnot\u001b[0m \u001b[0misinstance\u001b[0m\u001b[0;34m(\u001b[0m\u001b[0mK\u001b[0m\u001b[0;34m.\u001b[0m\u001b[0mlearning_phase\u001b[0m\u001b[0;34m(\u001b[0m\u001b[0;34m)\u001b[0m\u001b[0;34m,\u001b[0m \u001b[0mint\u001b[0m\u001b[0;34m)\u001b[0m\u001b[0;34m:\u001b[0m\u001b[0;34m\u001b[0m\u001b[0m\n\u001b[1;32m   1638\u001b[0m             \u001b[0mins\u001b[0m \u001b[0;34m=\u001b[0m \u001b[0mx\u001b[0m \u001b[0;34m+\u001b[0m \u001b[0my\u001b[0m \u001b[0;34m+\u001b[0m \u001b[0msample_weights\u001b[0m \u001b[0;34m+\u001b[0m \u001b[0;34m[\u001b[0m\u001b[0;36m1.\u001b[0m\u001b[0;34m]\u001b[0m\u001b[0;34m\u001b[0m\u001b[0m\n",
      "\u001b[0;32m/usr/local/lib/python3.4/dist-packages/keras/engine/training.py\u001b[0m in \u001b[0;36m_standardize_user_data\u001b[0;34m(self, x, y, sample_weight, class_weight, check_batch_axis, batch_size)\u001b[0m\n\u001b[1;32m   1309\u001b[0m                                     \u001b[0mself\u001b[0m\u001b[0;34m.\u001b[0m\u001b[0m_feed_input_shapes\u001b[0m\u001b[0;34m,\u001b[0m\u001b[0;34m\u001b[0m\u001b[0m\n\u001b[1;32m   1310\u001b[0m                                     \u001b[0mcheck_batch_axis\u001b[0m\u001b[0;34m=\u001b[0m\u001b[0;32mFalse\u001b[0m\u001b[0;34m,\u001b[0m\u001b[0;34m\u001b[0m\u001b[0m\n\u001b[0;32m-> 1311\u001b[0;31m                                     exception_prefix='input')\n\u001b[0m\u001b[1;32m   1312\u001b[0m         y = _standardize_input_data(y, self._feed_output_names,\n\u001b[1;32m   1313\u001b[0m                                     \u001b[0moutput_shapes\u001b[0m\u001b[0;34m,\u001b[0m\u001b[0;34m\u001b[0m\u001b[0m\n",
      "\u001b[0;32m/usr/local/lib/python3.4/dist-packages/keras/engine/training.py\u001b[0m in \u001b[0;36m_standardize_input_data\u001b[0;34m(data, names, shapes, check_batch_axis, exception_prefix)\u001b[0m\n\u001b[1;32m    125\u001b[0m                                  \u001b[0;34m' to have '\u001b[0m \u001b[0;34m+\u001b[0m \u001b[0mstr\u001b[0m\u001b[0;34m(\u001b[0m\u001b[0mlen\u001b[0m\u001b[0;34m(\u001b[0m\u001b[0mshapes\u001b[0m\u001b[0;34m[\u001b[0m\u001b[0mi\u001b[0m\u001b[0;34m]\u001b[0m\u001b[0;34m)\u001b[0m\u001b[0;34m)\u001b[0m \u001b[0;34m+\u001b[0m\u001b[0;34m\u001b[0m\u001b[0m\n\u001b[1;32m    126\u001b[0m                                  \u001b[0;34m' dimensions, but got array with shape '\u001b[0m \u001b[0;34m+\u001b[0m\u001b[0;34m\u001b[0m\u001b[0m\n\u001b[0;32m--> 127\u001b[0;31m                                  str(array.shape))\n\u001b[0m\u001b[1;32m    128\u001b[0m             \u001b[0;32mfor\u001b[0m \u001b[0mj\u001b[0m\u001b[0;34m,\u001b[0m \u001b[0;34m(\u001b[0m\u001b[0mdim\u001b[0m\u001b[0;34m,\u001b[0m \u001b[0mref_dim\u001b[0m\u001b[0;34m)\u001b[0m \u001b[0;32min\u001b[0m \u001b[0menumerate\u001b[0m\u001b[0;34m(\u001b[0m\u001b[0mzip\u001b[0m\u001b[0;34m(\u001b[0m\u001b[0marray\u001b[0m\u001b[0;34m.\u001b[0m\u001b[0mshape\u001b[0m\u001b[0;34m,\u001b[0m \u001b[0mshapes\u001b[0m\u001b[0;34m[\u001b[0m\u001b[0mi\u001b[0m\u001b[0;34m]\u001b[0m\u001b[0;34m)\u001b[0m\u001b[0;34m)\u001b[0m\u001b[0;34m:\u001b[0m\u001b[0;34m\u001b[0m\u001b[0m\n\u001b[1;32m    129\u001b[0m                 \u001b[0;32mif\u001b[0m \u001b[0;32mnot\u001b[0m \u001b[0mj\u001b[0m \u001b[0;32mand\u001b[0m \u001b[0;32mnot\u001b[0m \u001b[0mcheck_batch_axis\u001b[0m\u001b[0;34m:\u001b[0m\u001b[0;34m\u001b[0m\u001b[0m\n",
      "\u001b[0;31mValueError\u001b[0m: Error when checking input: expected word_input to have 3 dimensions, but got array with shape (32, 1)"
     ]
    }
   ],
   "source": [
    "model = train.train_model(epochs=3, data_gen=data_gen)"
   ]
  },
  {
   "cell_type": "code",
   "execution_count": null,
   "metadata": {
    "collapsed": true
   },
   "outputs": [],
   "source": [
    "test_tasks.test_model(model)"
   ]
  },
  {
   "cell_type": "code",
   "execution_count": null,
   "metadata": {
    "collapsed": true
   },
   "outputs": [],
   "source": [
    "model = train.train_model(model=model, epochs=30)"
   ]
  },
  {
   "cell_type": "code",
   "execution_count": null,
   "metadata": {
    "collapsed": true
   },
   "outputs": [],
   "source": [
    "test_tasks.test_model(model)"
   ]
  },
  {
   "cell_type": "code",
   "execution_count": null,
   "metadata": {
    "collapsed": true
   },
   "outputs": [],
   "source": [
    "model.save_weights('../person2vec/data/weights/dense1000_60epoch_97genderacc.h5')"
   ]
  },
  {
   "cell_type": "code",
   "execution_count": null,
   "metadata": {
    "collapsed": true
   },
   "outputs": [],
   "source": [
    "model2 = train._build_default_model()"
   ]
  },
  {
   "cell_type": "code",
   "execution_count": null,
   "metadata": {
    "collapsed": true
   },
   "outputs": [],
   "source": [
    "model2.load_weights('../person2vec/data/weights/dense1000_60epoch_97genderacc.h5')"
   ]
  },
  {
   "cell_type": "code",
   "execution_count": null,
   "metadata": {
    "collapsed": true
   },
   "outputs": [],
   "source": [
    "model = train.train_model(model=model2, epochs=1)"
   ]
  },
  {
   "cell_type": "code",
   "execution_count": null,
   "metadata": {
    "collapsed": true
   },
   "outputs": [],
   "source": []
  },
  {
   "cell_type": "code",
   "execution_count": null,
   "metadata": {},
   "outputs": [],
   "source": [
    "test_tasks.test_word2vec(data_gen.word_vectors, data_gen=data_gen)"
   ]
  },
  {
   "cell_type": "code",
   "execution_count": null,
   "metadata": {
    "collapsed": true
   },
   "outputs": [],
   "source": [
    "import pickle"
   ]
  },
  {
   "cell_type": "code",
   "execution_count": null,
   "metadata": {
    "collapsed": true
   },
   "outputs": [],
   "source": [
    "embeds = pickle.load(open(\"../person2vec/data/weights/embed_weights_1.pk\", \"rb\" ))"
   ]
  },
  {
   "cell_type": "code",
   "execution_count": null,
   "metadata": {},
   "outputs": [],
   "source": [
    "test_tasks.test_embeddings(embeds, data_gen=data_gen)"
   ]
  },
  {
   "cell_type": "code",
   "execution_count": null,
   "metadata": {
    "collapsed": true
   },
   "outputs": [],
   "source": []
  },
  {
   "cell_type": "code",
   "execution_count": null,
   "metadata": {
    "collapsed": true
   },
   "outputs": [],
   "source": [
    "import pandas"
   ]
  },
  {
   "cell_type": "code",
   "execution_count": null,
   "metadata": {
    "collapsed": true
   },
   "outputs": [],
   "source": [
    "frame = pandas.DataFrame([['frank', 'john', 'jimmy','sara'],['banker', 'lawyer', 'doctor','lawyer']])\n",
    "frame = frame.T\n",
    "frame.columns=['name', 'occupation']\n",
    "frame.set_index('name', inplace=True)\n",
    "frame"
   ]
  },
  {
   "cell_type": "code",
   "execution_count": null,
   "metadata": {
    "collapsed": true
   },
   "outputs": [],
   "source": [
    "frame = pandas.get_dummies(frame.occupation)\n",
    "frame"
   ]
  },
  {
   "cell_type": "code",
   "execution_count": null,
   "metadata": {
    "collapsed": true
   },
   "outputs": [],
   "source": [
    "frame.values"
   ]
  },
  {
   "cell_type": "code",
   "execution_count": null,
   "metadata": {
    "collapsed": true
   },
   "outputs": [],
   "source": []
  },
  {
   "cell_type": "code",
   "execution_count": null,
   "metadata": {
    "collapsed": true
   },
   "outputs": [],
   "source": []
  },
  {
   "cell_type": "code",
   "execution_count": null,
   "metadata": {
    "collapsed": true
   },
   "outputs": [],
   "source": []
  },
  {
   "cell_type": "code",
   "execution_count": null,
   "metadata": {
    "collapsed": true
   },
   "outputs": [],
   "source": []
  },
  {
   "cell_type": "code",
   "execution_count": null,
   "metadata": {
    "collapsed": true
   },
   "outputs": [],
   "source": [
    "from keras.layers import Input, Flatten, Dropout, Embedding, Dense\n",
    "from keras.layers.merge import Concatenate\n",
    "from keras.models import Model\n",
    "from keras import optimizers"
   ]
  },
  {
   "cell_type": "code",
   "execution_count": null,
   "metadata": {},
   "outputs": [],
   "source": [
    "num_total_entities = 1693\n",
    "word_vec_size = 300\n",
    "snip_size = 32\n",
    "num_compare_entities = 4\n",
    "embedding_size = 300\n",
    "\n",
    "input_tensor_words = Input(shape=(snip_size, word_vec_size,), dtype='float32', name='word_input')\n",
    "input_tensor_entity = Input(shape=(num_compare_entities,), dtype='int32', name='entity_input')\n",
    "\n",
    "word_flatten_layer = Flatten()(input_tensor_words)\n",
    "word_dropout_layer = Dropout(0.)(word_flatten_layer)\n",
    "\n",
    "entity_embedding_layer = Embedding(num_total_entities, embedding_size, input_length=num_compare_entities, name='entity_embedding')(input_tensor_entity)\n",
    "entity_embedding_layer = Flatten()(entity_embedding_layer)\n",
    "entity_embedding_layer = Dropout(0.)(entity_embedding_layer)\n",
    "\n",
    "word_branch = Dense(2000, activation=\"relu\", name='dense_sentence_layer')(word_dropout_layer)\n",
    "\n",
    "joint_embeds = Concatenate(name='joint_embeds')([word_branch, entity_embedding_layer])\n",
    "\n",
    "nex = Dropout(0.)(joint_embeds)\n",
    "nex = Dense(200, activation=\"relu\", name='dense_consolidator')(nex)\n",
    "nex = Dropout(0.)(nex)\n",
    "full_out = Dense (4, activation='softmax', name='final_output')(nex)\n",
    "\n",
    "model = Model([input_tensor_words, input_tensor_entity], full_out)\n",
    "\n",
    "model.summary()"
   ]
  },
  {
   "cell_type": "code",
   "execution_count": null,
   "metadata": {
    "collapsed": true
   },
   "outputs": [],
   "source": [
    "opt = optimizers.adam()\n",
    "loss = 'categorical_crossentropy'\n",
    "model.compile(optimizer=opt, loss=loss, metrics=['accuracy'])"
   ]
  },
  {
   "cell_type": "code",
   "execution_count": null,
   "metadata": {
    "collapsed": true
   },
   "outputs": [],
   "source": [
    "from person2vec.generators import training_data_generator\n",
    "data_gen = training_data_generator.EmbeddingDataGenerator(300,4)"
   ]
  },
  {
   "cell_type": "code",
   "execution_count": null,
   "metadata": {
    "scrolled": false
   },
   "outputs": [],
   "source": [
    "model, data_gen = train.train_model(model=model, epochs=200, data_gen=data_gen)"
   ]
  },
  {
   "cell_type": "code",
   "execution_count": null,
   "metadata": {
    "collapsed": true
   },
   "outputs": [],
   "source": [
    "model.save_weights('../person2vec/data/weights/dense2000_200epoch.h5')"
   ]
  },
  {
   "cell_type": "code",
   "execution_count": null,
   "metadata": {},
   "outputs": [],
   "source": [
    "test_tasks.test_model(model, data_gen=data_gen)"
   ]
  },
  {
   "cell_type": "code",
   "execution_count": null,
   "metadata": {
    "collapsed": true
   },
   "outputs": [],
   "source": [
    "from keras.layers import BatchNormalization"
   ]
  },
  {
   "cell_type": "code",
   "execution_count": null,
   "metadata": {},
   "outputs": [],
   "source": [
    "num_total_entities = 1693\n",
    "word_vec_size = 300\n",
    "snip_size = 32\n",
    "num_compare_entities = 4\n",
    "embedding_size = 300\n",
    "\n",
    "input_tensor_words = Input(shape=(snip_size, word_vec_size,), dtype='float32', name='word_input')\n",
    "input_tensor_entity = Input(shape=(num_compare_entities,), dtype='int32', name='entity_input')\n",
    "\n",
    "word_flatten_layer = Flatten()(input_tensor_words)\n",
    "\n",
    "entity_embedding_layer = Embedding(num_total_entities, embedding_size, input_length=num_compare_entities, name='entity_embedding')(input_tensor_entity)\n",
    "entity_embedding_layer = Flatten()(entity_embedding_layer)\n",
    "\n",
    "word_branch = Dense(1000, activation=\"relu\", name='dense_sentence_layer')(word_flatten_layer)\n",
    "word_branch = BatchNormalization()(word_branch)\n",
    "\n",
    "joint_embeds = Concatenate(name='joint_embeds')([word_branch, entity_embedding_layer])\n",
    "\n",
    "nex = Dense(200, activation=\"relu\", name='dense_consolidator')(joint_embeds)\n",
    "full_out = Dense (4, activation='softmax', name='final_output')(nex)\n",
    "\n",
    "model = Model([input_tensor_words, input_tensor_entity], full_out)\n",
    "\n",
    "model.summary()"
   ]
  },
  {
   "cell_type": "code",
   "execution_count": null,
   "metadata": {
    "collapsed": true
   },
   "outputs": [],
   "source": [
    "opt = optimizers.adam()\n",
    "loss = 'categorical_crossentropy'\n",
    "model.compile(optimizer=opt, loss=loss, metrics=['accuracy'])"
   ]
  },
  {
   "cell_type": "code",
   "execution_count": null,
   "metadata": {},
   "outputs": [],
   "source": [
    "model, data_gen = train.train_model(model=model, epochs=50, data_gen=data_gen)"
   ]
  },
  {
   "cell_type": "code",
   "execution_count": null,
   "metadata": {},
   "outputs": [],
   "source": [
    "test_tasks.test_model(model, data_gen=data_gen)"
   ]
  },
  {
   "cell_type": "code",
   "execution_count": null,
   "metadata": {
    "collapsed": true
   },
   "outputs": [],
   "source": [
    "from keras.layers import Convolution1D, MaxPooling1D"
   ]
  },
  {
   "cell_type": "code",
   "execution_count": null,
   "metadata": {},
   "outputs": [],
   "source": [
    "num_total_entities = 1693\n",
    "word_vec_size = 300\n",
    "snip_size = 32\n",
    "num_compare_entities = 4\n",
    "embedding_size = 300\n",
    "\n",
    "input_tensor_words = Input(shape=(snip_size, word_vec_size,), dtype='float32', name='word_input')\n",
    "input_tensor_entity = Input(shape=(num_compare_entities,), dtype='int32', name='entity_input')\n",
    "\n",
    "# word_flatten_layer = Flatten()(input_tensor_words)\n",
    "\n",
    "entity_embedding_layer = Embedding(num_total_entities, embedding_size, input_length=num_compare_entities, name='entity_embedding')(input_tensor_entity)\n",
    "entity_embedding_layer = Flatten()(entity_embedding_layer)\n",
    "\n",
    "word_branch = Dense(1000, activation=\"relu\", name='dense_sentence_layer')(input_tensor_words)\n",
    "word_branch = Flatten()(word_branch)\n",
    "word_branch = BatchNormalization()(word_branch)\n",
    "\n",
    "convs = [] \n",
    "for num in range (2, 5): \n",
    "    x = Convolution1D(32, num, padding='same', activation=\"relu\")(input_tensor_words)\n",
    "    x = MaxPooling1D()(x) \n",
    "    x = Flatten()(x) \n",
    "    convs.append(x)\n",
    "\n",
    "conv_out = Concatenate(name='concatenated_convs')(convs)\n",
    "\n",
    "\n",
    "joint_embeds = Concatenate(name='joint_embeds')([word_branch, conv_out, entity_embedding_layer])\n",
    "joint_embeds = BatchNormalization()(joint_embeds)\n",
    "\n",
    "nex = Dense(500, activation=\"relu\", name='dense_consolidator')(joint_embeds)\n",
    "full_out = Dense (4, activation='softmax', name='final_output')(nex)\n",
    "\n",
    "model = Model([input_tensor_words, input_tensor_entity], full_out)\n",
    "\n",
    "model.summary()"
   ]
  },
  {
   "cell_type": "code",
   "execution_count": null,
   "metadata": {
    "collapsed": true
   },
   "outputs": [],
   "source": [
    "opt = optimizers.adam()\n",
    "loss = 'categorical_crossentropy'\n",
    "model.compile(optimizer=opt, loss=loss, metrics=['accuracy'])"
   ]
  },
  {
   "cell_type": "code",
   "execution_count": null,
   "metadata": {},
   "outputs": [],
   "source": [
    "model, data_gen = train.train_model(model=model, epochs=50, data_gen=data_gen)"
   ]
  },
  {
   "cell_type": "code",
   "execution_count": null,
   "metadata": {},
   "outputs": [],
   "source": [
    "test_tasks.test_model(model, data_gen=data_gen)"
   ]
  },
  {
   "cell_type": "code",
   "execution_count": null,
   "metadata": {
    "collapsed": true
   },
   "outputs": [],
   "source": []
  },
  {
   "cell_type": "code",
   "execution_count": null,
   "metadata": {},
   "outputs": [],
   "source": [
    "num_total_entities = 1693\n",
    "word_vec_size = 300\n",
    "snip_size = 32\n",
    "num_compare_entities = 4\n",
    "embedding_size = 300\n",
    "\n",
    "input_tensor_words = Input(shape=(snip_size, word_vec_size,), dtype='float32', name='word_input')\n",
    "input_tensor_entity = Input(shape=(num_compare_entities,), dtype='int32', name='entity_input')\n",
    "\n",
    "word_flatten_layer = Flatten()(input_tensor_words)\n",
    "word_dropout_layer = Dropout(0.)(word_flatten_layer)\n",
    "\n",
    "entity_embedding_layer = Embedding(num_total_entities, embedding_size, input_length=num_compare_entities, name='entity_embedding')(input_tensor_entity)\n",
    "entity_embedding_layer = Flatten()(entity_embedding_layer)\n",
    "entity_embedding_layer = Dropout(0.)(entity_embedding_layer)\n",
    "\n",
    "word_branch = Dense(1000, activation=\"relu\", name='dense_sentence_layer')(word_dropout_layer)\n",
    "word_branch = Dense(500, activation=\"relu\", name='dense_sentence_layer_2')(word_branch)\n",
    "\n",
    "\n",
    "joint_embeds = Concatenate(name='joint_embeds')([word_branch, entity_embedding_layer])\n",
    "\n",
    "nex = Dropout(0.)(joint_embeds)\n",
    "nex = Dense(100, activation=\"relu\", name='dense_consolidator')(nex)\n",
    "nex = Dropout(0.)(nex)\n",
    "full_out = Dense (4, activation='softmax', name='final_output')(nex)\n",
    "\n",
    "model = Model([input_tensor_words, input_tensor_entity], full_out)\n",
    "\n",
    "model.summary()"
   ]
  },
  {
   "cell_type": "code",
   "execution_count": null,
   "metadata": {
    "collapsed": true
   },
   "outputs": [],
   "source": [
    "opt = optimizers.adam()\n",
    "loss = 'categorical_crossentropy'\n",
    "model.compile(optimizer=opt, loss=loss, metrics=['accuracy'])"
   ]
  },
  {
   "cell_type": "code",
   "execution_count": null,
   "metadata": {},
   "outputs": [],
   "source": [
    "model, data_gen = train.train_model(model=model, epochs=120, data_gen=data_gen)"
   ]
  },
  {
   "cell_type": "code",
   "execution_count": null,
   "metadata": {},
   "outputs": [],
   "source": [
    "test_tasks.test_model(model, data_gen=data_gen)"
   ]
  },
  {
   "cell_type": "code",
   "execution_count": null,
   "metadata": {
    "collapsed": true
   },
   "outputs": [],
   "source": []
  },
  {
   "cell_type": "code",
   "execution_count": null,
   "metadata": {},
   "outputs": [],
   "source": [
    "num_total_entities = 1693\n",
    "word_vec_size = 300\n",
    "snip_size = 32\n",
    "num_compare_entities = 4\n",
    "embedding_size = 300\n",
    "\n",
    "input_tensor_words = Input(shape=(snip_size, word_vec_size,), dtype='float32', name='word_input')\n",
    "input_tensor_entity = Input(shape=(num_compare_entities,), dtype='int32', name='entity_input')\n",
    "\n",
    "word_flatten_layer = Flatten()(input_tensor_words)\n",
    "word_dropout_layer = Dropout(0.)(word_flatten_layer)\n",
    "\n",
    "entity_embedding_layer = Embedding(num_total_entities, embedding_size, input_length=num_compare_entities, name='entity_embedding')(input_tensor_entity)\n",
    "entity_embedding_layer = Flatten()(entity_embedding_layer)\n",
    "entity_embedding_layer = Dropout(0.)(entity_embedding_layer)\n",
    "\n",
    "word_branch = Dense(1000, activation=\"relu\", name='dense_sentence_layer')(word_dropout_layer)\n",
    "\n",
    "joint_embeds = Concatenate(name='joint_embeds')([word_branch, entity_embedding_layer])\n",
    "\n",
    "nex = Dropout(0.)(joint_embeds)\n",
    "nex = Dense(1000, activation=\"relu\", name='dense_consolidator')(nex)\n",
    "nex = Dropout(0.)(nex)\n",
    "full_out = Dense (4, activation='softmax', name='final_output')(nex)\n",
    "\n",
    "model = Model([input_tensor_words, input_tensor_entity], full_out)\n",
    "\n",
    "model.summary()"
   ]
  },
  {
   "cell_type": "code",
   "execution_count": null,
   "metadata": {
    "collapsed": true
   },
   "outputs": [],
   "source": [
    "opt = optimizers.adam()\n",
    "loss = 'categorical_crossentropy'\n",
    "model.compile(optimizer=opt, loss=loss, metrics=['accuracy'])"
   ]
  },
  {
   "cell_type": "code",
   "execution_count": null,
   "metadata": {},
   "outputs": [],
   "source": [
    "model, data_gen = train.train_model(model=model, epochs=120, data_gen=data_gen)"
   ]
  },
  {
   "cell_type": "code",
   "execution_count": null,
   "metadata": {},
   "outputs": [],
   "source": [
    "test_tasks.test_model(model, data_gen=data_gen)"
   ]
  },
  {
   "cell_type": "code",
   "execution_count": null,
   "metadata": {},
   "outputs": [],
   "source": [
    "model, data_gen = train.train_model(model=model, epochs=80, data_gen=data_gen)"
   ]
  },
  {
   "cell_type": "code",
   "execution_count": null,
   "metadata": {},
   "outputs": [],
   "source": [
    "test_tasks.test_model(model, data_gen=data_gen)"
   ]
  },
  {
   "cell_type": "code",
   "execution_count": null,
   "metadata": {
    "collapsed": true
   },
   "outputs": [],
   "source": []
  },
  {
   "cell_type": "code",
   "execution_count": null,
   "metadata": {},
   "outputs": [],
   "source": [
    "num_total_entities = 1693\n",
    "word_vec_size = 300\n",
    "snip_size = 32\n",
    "num_compare_entities = 4\n",
    "embedding_size = 300\n",
    "\n",
    "input_tensor_words = Input(shape=(snip_size, word_vec_size,), dtype='float32', name='word_input')\n",
    "input_tensor_entity = Input(shape=(num_compare_entities,), dtype='int32', name='entity_input')\n",
    "\n",
    "word_flatten_layer = Flatten()(input_tensor_words)\n",
    "word_dropout_layer = Dropout(0.)(word_flatten_layer)\n",
    "\n",
    "entity_embedding_layer = Embedding(num_total_entities, embedding_size, input_length=num_compare_entities, name='entity_embedding')(input_tensor_entity)\n",
    "entity_embedding_layer = Flatten()(entity_embedding_layer)\n",
    "entity_embedding_layer = Dropout(0.)(entity_embedding_layer)\n",
    "\n",
    "word_branch = Dense(1000, activation=\"relu\", name='dense_sentence_layer')(word_dropout_layer)\n",
    "\n",
    "joint_embeds = Concatenate(name='joint_embeds')([word_branch, entity_embedding_layer])\n",
    "\n",
    "nex = Dropout(0.)(joint_embeds)\n",
    "nex = Dense(2000, activation=\"relu\", name='dense_consolidator')(nex)\n",
    "nex = Dropout(0.)(nex)\n",
    "full_out = Dense (4, activation='softmax', name='final_output')(nex)\n",
    "\n",
    "model = Model([input_tensor_words, input_tensor_entity], full_out)\n",
    "\n",
    "model.summary()"
   ]
  },
  {
   "cell_type": "code",
   "execution_count": null,
   "metadata": {
    "collapsed": true
   },
   "outputs": [],
   "source": [
    "opt = optimizers.adam()\n",
    "loss = 'categorical_crossentropy'\n",
    "model.compile(optimizer=opt, loss=loss, metrics=['accuracy'])"
   ]
  },
  {
   "cell_type": "code",
   "execution_count": null,
   "metadata": {},
   "outputs": [],
   "source": [
    "model, data_gen = train.train_model(model=model, epochs=120, data_gen=data_gen)"
   ]
  },
  {
   "cell_type": "code",
   "execution_count": null,
   "metadata": {},
   "outputs": [],
   "source": [
    "test_tasks.test_model(model, data_gen=data_gen)"
   ]
  },
  {
   "cell_type": "code",
   "execution_count": null,
   "metadata": {
    "collapsed": true
   },
   "outputs": [],
   "source": []
  },
  {
   "cell_type": "code",
   "execution_count": null,
   "metadata": {
    "collapsed": true
   },
   "outputs": [],
   "source": [
    "data_gen = training_data_generator.EmbeddingDataGenerator(300,10)"
   ]
  },
  {
   "cell_type": "code",
   "execution_count": null,
   "metadata": {},
   "outputs": [],
   "source": [
    "num_total_entities = 1693\n",
    "word_vec_size = 300\n",
    "snip_size = 32\n",
    "num_compare_entities = 10\n",
    "embedding_size = 300\n",
    "\n",
    "input_tensor_words = Input(shape=(snip_size, word_vec_size,), dtype='float32', name='word_input')\n",
    "input_tensor_entity = Input(shape=(num_compare_entities,), dtype='int32', name='entity_input')\n",
    "\n",
    "word_flatten_layer = Flatten()(input_tensor_words)\n",
    "word_dropout_layer = Dropout(0.)(word_flatten_layer)\n",
    "\n",
    "entity_embedding_layer = Embedding(num_total_entities, embedding_size, input_length=num_compare_entities, name='entity_embedding')(input_tensor_entity)\n",
    "entity_embedding_layer = Flatten()(entity_embedding_layer)\n",
    "entity_embedding_layer = Dropout(0.)(entity_embedding_layer)\n",
    "\n",
    "word_branch = Dense(1000, activation=\"relu\", name='dense_sentence_layer')(word_dropout_layer)\n",
    "\n",
    "joint_embeds = Concatenate(name='joint_embeds')([word_branch, entity_embedding_layer])\n",
    "\n",
    "nex = Dropout(0.)(joint_embeds)\n",
    "nex = Dense(1000, activation=\"relu\", name='dense_consolidator')(nex)\n",
    "nex = Dropout(0.)(nex)\n",
    "full_out = Dense (4, activation='softmax', name='final_output')(nex)\n",
    "\n",
    "model = Model([input_tensor_words, input_tensor_entity], full_out)\n",
    "\n",
    "model.summary()"
   ]
  },
  {
   "cell_type": "code",
   "execution_count": null,
   "metadata": {
    "collapsed": true
   },
   "outputs": [],
   "source": [
    "opt = optimizers.adam()\n",
    "loss = 'categorical_crossentropy'\n",
    "model.compile(optimizer=opt, loss=loss, metrics=['accuracy'])"
   ]
  },
  {
   "cell_type": "code",
   "execution_count": null,
   "metadata": {},
   "outputs": [],
   "source": [
    "model, data_gen = train.train_model(model=model, epochs=120, data_gen=data_gen)"
   ]
  },
  {
   "cell_type": "code",
   "execution_count": null,
   "metadata": {
    "collapsed": true
   },
   "outputs": [],
   "source": []
  }
 ],
 "metadata": {
  "kernelspec": {
   "display_name": "Python 3",
   "language": "python",
   "name": "python3"
  },
  "language_info": {
   "codemirror_mode": {
    "name": "ipython",
    "version": 3
   },
   "file_extension": ".py",
   "mimetype": "text/x-python",
   "name": "python",
   "nbconvert_exporter": "python",
   "pygments_lexer": "ipython3",
   "version": "3.4.3"
  }
 },
 "nbformat": 4,
 "nbformat_minor": 2
}
